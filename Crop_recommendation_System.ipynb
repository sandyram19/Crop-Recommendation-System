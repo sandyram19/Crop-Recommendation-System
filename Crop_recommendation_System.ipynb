{
  "nbformat": 4,
  "nbformat_minor": 0,
  "metadata": {
    "colab": {
      "provenance": [],
      "toc_visible": true
    },
    "kernelspec": {
      "name": "python3",
      "display_name": "Python 3"
    },
    "language_info": {
      "name": "python"
    }
  },
  "cells": [
    {
      "cell_type": "markdown",
      "source": [
        "# Importing libraries"
      ],
      "metadata": {
        "id": "YkxKkvniPeGB"
      }
    },
    {
      "cell_type": "code",
      "source": [
        "import pandas as pd \n",
        "import numpy as np \n",
        "\n",
        "import matplotlib.pyplot as plt\n",
        "%matplotlib inline\n",
        "import seaborn as sns\n",
        "\n",
        "from sklearn.metrics import classification_report\n",
        "from sklearn import metrics\n",
        "from sklearn import tree\n",
        "from sklearn.model_selection import cross_val_score"
      ],
      "metadata": {
        "id": "BDyQep0WP9Si"
      },
      "execution_count": 3,
      "outputs": []
    },
    {
      "cell_type": "markdown",
      "source": [
        "# Loading dataset"
      ],
      "metadata": {
        "id": "KRRTOgn1PkZr"
      }
    },
    {
      "cell_type": "code",
      "source": [
        "crop = pd.read_csv('https://raw.githubusercontent.com/sandyram19/Crop-Recommendation-System/main/Crop_recommendation.csv')\n",
        "# crop=pd.read_csv('Crop_recommendation.csv')\n",
        "crop.head(5)"
      ],
      "metadata": {
        "colab": {
          "base_uri": "https://localhost:8080/",
          "height": 206
        },
        "id": "pLah8zKXP09C",
        "outputId": "bf594471-1e7c-4bec-d50e-9111adb29098"
      },
      "execution_count": 56,
      "outputs": [
        {
          "output_type": "execute_result",
          "data": {
            "text/plain": [
              "    N   P   K  temperature   humidity        ph    rainfall label\n",
              "0  90  42  43    20.879744  82.002744  6.502985  202.935536  rice\n",
              "1  85  58  41    21.770462  80.319644  7.038096  226.655537  rice\n",
              "2  60  55  44    23.004459  82.320763  7.840207  263.964248  rice\n",
              "3  74  35  40    26.491096  80.158363  6.980401  242.864034  rice\n",
              "4  78  42  42    20.130175  81.604873  7.628473  262.717340  rice"
            ],
            "text/html": [
              "\n",
              "  <div id=\"df-048d2ab4-0707-4902-bdeb-a95f26fcce42\">\n",
              "    <div class=\"colab-df-container\">\n",
              "      <div>\n",
              "<style scoped>\n",
              "    .dataframe tbody tr th:only-of-type {\n",
              "        vertical-align: middle;\n",
              "    }\n",
              "\n",
              "    .dataframe tbody tr th {\n",
              "        vertical-align: top;\n",
              "    }\n",
              "\n",
              "    .dataframe thead th {\n",
              "        text-align: right;\n",
              "    }\n",
              "</style>\n",
              "<table border=\"1\" class=\"dataframe\">\n",
              "  <thead>\n",
              "    <tr style=\"text-align: right;\">\n",
              "      <th></th>\n",
              "      <th>N</th>\n",
              "      <th>P</th>\n",
              "      <th>K</th>\n",
              "      <th>temperature</th>\n",
              "      <th>humidity</th>\n",
              "      <th>ph</th>\n",
              "      <th>rainfall</th>\n",
              "      <th>label</th>\n",
              "    </tr>\n",
              "  </thead>\n",
              "  <tbody>\n",
              "    <tr>\n",
              "      <th>0</th>\n",
              "      <td>90</td>\n",
              "      <td>42</td>\n",
              "      <td>43</td>\n",
              "      <td>20.879744</td>\n",
              "      <td>82.002744</td>\n",
              "      <td>6.502985</td>\n",
              "      <td>202.935536</td>\n",
              "      <td>rice</td>\n",
              "    </tr>\n",
              "    <tr>\n",
              "      <th>1</th>\n",
              "      <td>85</td>\n",
              "      <td>58</td>\n",
              "      <td>41</td>\n",
              "      <td>21.770462</td>\n",
              "      <td>80.319644</td>\n",
              "      <td>7.038096</td>\n",
              "      <td>226.655537</td>\n",
              "      <td>rice</td>\n",
              "    </tr>\n",
              "    <tr>\n",
              "      <th>2</th>\n",
              "      <td>60</td>\n",
              "      <td>55</td>\n",
              "      <td>44</td>\n",
              "      <td>23.004459</td>\n",
              "      <td>82.320763</td>\n",
              "      <td>7.840207</td>\n",
              "      <td>263.964248</td>\n",
              "      <td>rice</td>\n",
              "    </tr>\n",
              "    <tr>\n",
              "      <th>3</th>\n",
              "      <td>74</td>\n",
              "      <td>35</td>\n",
              "      <td>40</td>\n",
              "      <td>26.491096</td>\n",
              "      <td>80.158363</td>\n",
              "      <td>6.980401</td>\n",
              "      <td>242.864034</td>\n",
              "      <td>rice</td>\n",
              "    </tr>\n",
              "    <tr>\n",
              "      <th>4</th>\n",
              "      <td>78</td>\n",
              "      <td>42</td>\n",
              "      <td>42</td>\n",
              "      <td>20.130175</td>\n",
              "      <td>81.604873</td>\n",
              "      <td>7.628473</td>\n",
              "      <td>262.717340</td>\n",
              "      <td>rice</td>\n",
              "    </tr>\n",
              "  </tbody>\n",
              "</table>\n",
              "</div>\n",
              "      <button class=\"colab-df-convert\" onclick=\"convertToInteractive('df-048d2ab4-0707-4902-bdeb-a95f26fcce42')\"\n",
              "              title=\"Convert this dataframe to an interactive table.\"\n",
              "              style=\"display:none;\">\n",
              "        \n",
              "  <svg xmlns=\"http://www.w3.org/2000/svg\" height=\"24px\"viewBox=\"0 0 24 24\"\n",
              "       width=\"24px\">\n",
              "    <path d=\"M0 0h24v24H0V0z\" fill=\"none\"/>\n",
              "    <path d=\"M18.56 5.44l.94 2.06.94-2.06 2.06-.94-2.06-.94-.94-2.06-.94 2.06-2.06.94zm-11 1L8.5 8.5l.94-2.06 2.06-.94-2.06-.94L8.5 2.5l-.94 2.06-2.06.94zm10 10l.94 2.06.94-2.06 2.06-.94-2.06-.94-.94-2.06-.94 2.06-2.06.94z\"/><path d=\"M17.41 7.96l-1.37-1.37c-.4-.4-.92-.59-1.43-.59-.52 0-1.04.2-1.43.59L10.3 9.45l-7.72 7.72c-.78.78-.78 2.05 0 2.83L4 21.41c.39.39.9.59 1.41.59.51 0 1.02-.2 1.41-.59l7.78-7.78 2.81-2.81c.8-.78.8-2.07 0-2.86zM5.41 20L4 18.59l7.72-7.72 1.47 1.35L5.41 20z\"/>\n",
              "  </svg>\n",
              "      </button>\n",
              "      \n",
              "  <style>\n",
              "    .colab-df-container {\n",
              "      display:flex;\n",
              "      flex-wrap:wrap;\n",
              "      gap: 12px;\n",
              "    }\n",
              "\n",
              "    .colab-df-convert {\n",
              "      background-color: #E8F0FE;\n",
              "      border: none;\n",
              "      border-radius: 50%;\n",
              "      cursor: pointer;\n",
              "      display: none;\n",
              "      fill: #1967D2;\n",
              "      height: 32px;\n",
              "      padding: 0 0 0 0;\n",
              "      width: 32px;\n",
              "    }\n",
              "\n",
              "    .colab-df-convert:hover {\n",
              "      background-color: #E2EBFA;\n",
              "      box-shadow: 0px 1px 2px rgba(60, 64, 67, 0.3), 0px 1px 3px 1px rgba(60, 64, 67, 0.15);\n",
              "      fill: #174EA6;\n",
              "    }\n",
              "\n",
              "    [theme=dark] .colab-df-convert {\n",
              "      background-color: #3B4455;\n",
              "      fill: #D2E3FC;\n",
              "    }\n",
              "\n",
              "    [theme=dark] .colab-df-convert:hover {\n",
              "      background-color: #434B5C;\n",
              "      box-shadow: 0px 1px 3px 1px rgba(0, 0, 0, 0.15);\n",
              "      filter: drop-shadow(0px 1px 2px rgba(0, 0, 0, 0.3));\n",
              "      fill: #FFFFFF;\n",
              "    }\n",
              "  </style>\n",
              "\n",
              "      <script>\n",
              "        const buttonEl =\n",
              "          document.querySelector('#df-048d2ab4-0707-4902-bdeb-a95f26fcce42 button.colab-df-convert');\n",
              "        buttonEl.style.display =\n",
              "          google.colab.kernel.accessAllowed ? 'block' : 'none';\n",
              "\n",
              "        async function convertToInteractive(key) {\n",
              "          const element = document.querySelector('#df-048d2ab4-0707-4902-bdeb-a95f26fcce42');\n",
              "          const dataTable =\n",
              "            await google.colab.kernel.invokeFunction('convertToInteractive',\n",
              "                                                     [key], {});\n",
              "          if (!dataTable) return;\n",
              "\n",
              "          const docLinkHtml = 'Like what you see? Visit the ' +\n",
              "            '<a target=\"_blank\" href=https://colab.research.google.com/notebooks/data_table.ipynb>data table notebook</a>'\n",
              "            + ' to learn more about interactive tables.';\n",
              "          element.innerHTML = '';\n",
              "          dataTable['output_type'] = 'display_data';\n",
              "          await google.colab.output.renderOutput(dataTable, element);\n",
              "          const docLink = document.createElement('div');\n",
              "          docLink.innerHTML = docLinkHtml;\n",
              "          element.appendChild(docLink);\n",
              "        }\n",
              "      </script>\n",
              "    </div>\n",
              "  </div>\n",
              "  "
            ]
          },
          "metadata": {},
          "execution_count": 56
        }
      ]
    },
    {
      "cell_type": "markdown",
      "source": [
        "# Analysing Data"
      ],
      "metadata": {
        "id": "uXj403SfQPg4"
      }
    },
    {
      "cell_type": "code",
      "source": [
        "crop.isnull().sum()"
      ],
      "metadata": {
        "colab": {
          "base_uri": "https://localhost:8080/"
        },
        "id": "-cX5Ne1uCRO0",
        "outputId": "60b53d3e-8f0e-4b46-e0a3-8eac54b6ae7c"
      },
      "execution_count": 5,
      "outputs": [
        {
          "output_type": "execute_result",
          "data": {
            "text/plain": [
              "N              0\n",
              "P              0\n",
              "K              0\n",
              "temperature    0\n",
              "humidity       0\n",
              "ph             0\n",
              "rainfall       0\n",
              "label          0\n",
              "dtype: int64"
            ]
          },
          "metadata": {},
          "execution_count": 5
        }
      ]
    },
    {
      "cell_type": "code",
      "source": [
        "crop.info()"
      ],
      "metadata": {
        "id": "ZNHQ4AbvRj65",
        "colab": {
          "base_uri": "https://localhost:8080/"
        },
        "outputId": "e41743a9-c706-495f-c34c-763ac29dcb75"
      },
      "execution_count": 6,
      "outputs": [
        {
          "output_type": "stream",
          "name": "stdout",
          "text": [
            "<class 'pandas.core.frame.DataFrame'>\n",
            "RangeIndex: 2200 entries, 0 to 2199\n",
            "Data columns (total 8 columns):\n",
            " #   Column       Non-Null Count  Dtype  \n",
            "---  ------       --------------  -----  \n",
            " 0   N            2200 non-null   int64  \n",
            " 1   P            2200 non-null   int64  \n",
            " 2   K            2200 non-null   int64  \n",
            " 3   temperature  2200 non-null   float64\n",
            " 4   humidity     2200 non-null   float64\n",
            " 5   ph           2200 non-null   float64\n",
            " 6   rainfall     2200 non-null   float64\n",
            " 7   label        2200 non-null   object \n",
            "dtypes: float64(4), int64(3), object(1)\n",
            "memory usage: 137.6+ KB\n"
          ]
        }
      ]
    },
    {
      "cell_type": "code",
      "source": [
        "crop.describe()"
      ],
      "metadata": {
        "id": "grkAUJjjoQ3G",
        "colab": {
          "base_uri": "https://localhost:8080/",
          "height": 300
        },
        "outputId": "3bc1c088-7179-424a-dd4b-c3a4e09e5dbb"
      },
      "execution_count": 7,
      "outputs": [
        {
          "output_type": "execute_result",
          "data": {
            "text/plain": [
              "                 N            P            K  temperature     humidity  \\\n",
              "count  2200.000000  2200.000000  2200.000000  2200.000000  2200.000000   \n",
              "mean     50.551818    53.362727    48.149091    25.616244    71.481779   \n",
              "std      36.917334    32.985883    50.647931     5.063749    22.263812   \n",
              "min       0.000000     5.000000     5.000000     8.825675    14.258040   \n",
              "25%      21.000000    28.000000    20.000000    22.769375    60.261953   \n",
              "50%      37.000000    51.000000    32.000000    25.598693    80.473146   \n",
              "75%      84.250000    68.000000    49.000000    28.561654    89.948771   \n",
              "max     140.000000   145.000000   205.000000    43.675493    99.981876   \n",
              "\n",
              "                ph     rainfall  \n",
              "count  2200.000000  2200.000000  \n",
              "mean      6.469480   103.463655  \n",
              "std       0.773938    54.958389  \n",
              "min       3.504752    20.211267  \n",
              "25%       5.971693    64.551686  \n",
              "50%       6.425045    94.867624  \n",
              "75%       6.923643   124.267508  \n",
              "max       9.935091   298.560117  "
            ],
            "text/html": [
              "\n",
              "  <div id=\"df-f0ad693d-4f89-4fd7-995e-640f7b0ee356\">\n",
              "    <div class=\"colab-df-container\">\n",
              "      <div>\n",
              "<style scoped>\n",
              "    .dataframe tbody tr th:only-of-type {\n",
              "        vertical-align: middle;\n",
              "    }\n",
              "\n",
              "    .dataframe tbody tr th {\n",
              "        vertical-align: top;\n",
              "    }\n",
              "\n",
              "    .dataframe thead th {\n",
              "        text-align: right;\n",
              "    }\n",
              "</style>\n",
              "<table border=\"1\" class=\"dataframe\">\n",
              "  <thead>\n",
              "    <tr style=\"text-align: right;\">\n",
              "      <th></th>\n",
              "      <th>N</th>\n",
              "      <th>P</th>\n",
              "      <th>K</th>\n",
              "      <th>temperature</th>\n",
              "      <th>humidity</th>\n",
              "      <th>ph</th>\n",
              "      <th>rainfall</th>\n",
              "    </tr>\n",
              "  </thead>\n",
              "  <tbody>\n",
              "    <tr>\n",
              "      <th>count</th>\n",
              "      <td>2200.000000</td>\n",
              "      <td>2200.000000</td>\n",
              "      <td>2200.000000</td>\n",
              "      <td>2200.000000</td>\n",
              "      <td>2200.000000</td>\n",
              "      <td>2200.000000</td>\n",
              "      <td>2200.000000</td>\n",
              "    </tr>\n",
              "    <tr>\n",
              "      <th>mean</th>\n",
              "      <td>50.551818</td>\n",
              "      <td>53.362727</td>\n",
              "      <td>48.149091</td>\n",
              "      <td>25.616244</td>\n",
              "      <td>71.481779</td>\n",
              "      <td>6.469480</td>\n",
              "      <td>103.463655</td>\n",
              "    </tr>\n",
              "    <tr>\n",
              "      <th>std</th>\n",
              "      <td>36.917334</td>\n",
              "      <td>32.985883</td>\n",
              "      <td>50.647931</td>\n",
              "      <td>5.063749</td>\n",
              "      <td>22.263812</td>\n",
              "      <td>0.773938</td>\n",
              "      <td>54.958389</td>\n",
              "    </tr>\n",
              "    <tr>\n",
              "      <th>min</th>\n",
              "      <td>0.000000</td>\n",
              "      <td>5.000000</td>\n",
              "      <td>5.000000</td>\n",
              "      <td>8.825675</td>\n",
              "      <td>14.258040</td>\n",
              "      <td>3.504752</td>\n",
              "      <td>20.211267</td>\n",
              "    </tr>\n",
              "    <tr>\n",
              "      <th>25%</th>\n",
              "      <td>21.000000</td>\n",
              "      <td>28.000000</td>\n",
              "      <td>20.000000</td>\n",
              "      <td>22.769375</td>\n",
              "      <td>60.261953</td>\n",
              "      <td>5.971693</td>\n",
              "      <td>64.551686</td>\n",
              "    </tr>\n",
              "    <tr>\n",
              "      <th>50%</th>\n",
              "      <td>37.000000</td>\n",
              "      <td>51.000000</td>\n",
              "      <td>32.000000</td>\n",
              "      <td>25.598693</td>\n",
              "      <td>80.473146</td>\n",
              "      <td>6.425045</td>\n",
              "      <td>94.867624</td>\n",
              "    </tr>\n",
              "    <tr>\n",
              "      <th>75%</th>\n",
              "      <td>84.250000</td>\n",
              "      <td>68.000000</td>\n",
              "      <td>49.000000</td>\n",
              "      <td>28.561654</td>\n",
              "      <td>89.948771</td>\n",
              "      <td>6.923643</td>\n",
              "      <td>124.267508</td>\n",
              "    </tr>\n",
              "    <tr>\n",
              "      <th>max</th>\n",
              "      <td>140.000000</td>\n",
              "      <td>145.000000</td>\n",
              "      <td>205.000000</td>\n",
              "      <td>43.675493</td>\n",
              "      <td>99.981876</td>\n",
              "      <td>9.935091</td>\n",
              "      <td>298.560117</td>\n",
              "    </tr>\n",
              "  </tbody>\n",
              "</table>\n",
              "</div>\n",
              "      <button class=\"colab-df-convert\" onclick=\"convertToInteractive('df-f0ad693d-4f89-4fd7-995e-640f7b0ee356')\"\n",
              "              title=\"Convert this dataframe to an interactive table.\"\n",
              "              style=\"display:none;\">\n",
              "        \n",
              "  <svg xmlns=\"http://www.w3.org/2000/svg\" height=\"24px\"viewBox=\"0 0 24 24\"\n",
              "       width=\"24px\">\n",
              "    <path d=\"M0 0h24v24H0V0z\" fill=\"none\"/>\n",
              "    <path d=\"M18.56 5.44l.94 2.06.94-2.06 2.06-.94-2.06-.94-.94-2.06-.94 2.06-2.06.94zm-11 1L8.5 8.5l.94-2.06 2.06-.94-2.06-.94L8.5 2.5l-.94 2.06-2.06.94zm10 10l.94 2.06.94-2.06 2.06-.94-2.06-.94-.94-2.06-.94 2.06-2.06.94z\"/><path d=\"M17.41 7.96l-1.37-1.37c-.4-.4-.92-.59-1.43-.59-.52 0-1.04.2-1.43.59L10.3 9.45l-7.72 7.72c-.78.78-.78 2.05 0 2.83L4 21.41c.39.39.9.59 1.41.59.51 0 1.02-.2 1.41-.59l7.78-7.78 2.81-2.81c.8-.78.8-2.07 0-2.86zM5.41 20L4 18.59l7.72-7.72 1.47 1.35L5.41 20z\"/>\n",
              "  </svg>\n",
              "      </button>\n",
              "      \n",
              "  <style>\n",
              "    .colab-df-container {\n",
              "      display:flex;\n",
              "      flex-wrap:wrap;\n",
              "      gap: 12px;\n",
              "    }\n",
              "\n",
              "    .colab-df-convert {\n",
              "      background-color: #E8F0FE;\n",
              "      border: none;\n",
              "      border-radius: 50%;\n",
              "      cursor: pointer;\n",
              "      display: none;\n",
              "      fill: #1967D2;\n",
              "      height: 32px;\n",
              "      padding: 0 0 0 0;\n",
              "      width: 32px;\n",
              "    }\n",
              "\n",
              "    .colab-df-convert:hover {\n",
              "      background-color: #E2EBFA;\n",
              "      box-shadow: 0px 1px 2px rgba(60, 64, 67, 0.3), 0px 1px 3px 1px rgba(60, 64, 67, 0.15);\n",
              "      fill: #174EA6;\n",
              "    }\n",
              "\n",
              "    [theme=dark] .colab-df-convert {\n",
              "      background-color: #3B4455;\n",
              "      fill: #D2E3FC;\n",
              "    }\n",
              "\n",
              "    [theme=dark] .colab-df-convert:hover {\n",
              "      background-color: #434B5C;\n",
              "      box-shadow: 0px 1px 3px 1px rgba(0, 0, 0, 0.15);\n",
              "      filter: drop-shadow(0px 1px 2px rgba(0, 0, 0, 0.3));\n",
              "      fill: #FFFFFF;\n",
              "    }\n",
              "  </style>\n",
              "\n",
              "      <script>\n",
              "        const buttonEl =\n",
              "          document.querySelector('#df-f0ad693d-4f89-4fd7-995e-640f7b0ee356 button.colab-df-convert');\n",
              "        buttonEl.style.display =\n",
              "          google.colab.kernel.accessAllowed ? 'block' : 'none';\n",
              "\n",
              "        async function convertToInteractive(key) {\n",
              "          const element = document.querySelector('#df-f0ad693d-4f89-4fd7-995e-640f7b0ee356');\n",
              "          const dataTable =\n",
              "            await google.colab.kernel.invokeFunction('convertToInteractive',\n",
              "                                                     [key], {});\n",
              "          if (!dataTable) return;\n",
              "\n",
              "          const docLinkHtml = 'Like what you see? Visit the ' +\n",
              "            '<a target=\"_blank\" href=https://colab.research.google.com/notebooks/data_table.ipynb>data table notebook</a>'\n",
              "            + ' to learn more about interactive tables.';\n",
              "          element.innerHTML = '';\n",
              "          dataTable['output_type'] = 'display_data';\n",
              "          await google.colab.output.renderOutput(dataTable, element);\n",
              "          const docLink = document.createElement('div');\n",
              "          docLink.innerHTML = docLinkHtml;\n",
              "          element.appendChild(docLink);\n",
              "        }\n",
              "      </script>\n",
              "    </div>\n",
              "  </div>\n",
              "  "
            ]
          },
          "metadata": {},
          "execution_count": 7
        }
      ]
    },
    {
      "cell_type": "code",
      "source": [
        "crop.columns"
      ],
      "metadata": {
        "id": "2576PINxoUCM",
        "colab": {
          "base_uri": "https://localhost:8080/"
        },
        "outputId": "7c893dbb-84e0-4ab0-d7da-b9af28494785"
      },
      "execution_count": 8,
      "outputs": [
        {
          "output_type": "execute_result",
          "data": {
            "text/plain": [
              "Index(['N', 'P', 'K', 'temperature', 'humidity', 'ph', 'rainfall', 'label'], dtype='object')"
            ]
          },
          "metadata": {},
          "execution_count": 8
        }
      ]
    },
    {
      "cell_type": "code",
      "source": [
        "crop.shape"
      ],
      "metadata": {
        "id": "Gz4T7tNBoW8D",
        "colab": {
          "base_uri": "https://localhost:8080/"
        },
        "outputId": "6fcf7ff7-1171-4643-8094-158ce4ebfe1f"
      },
      "execution_count": 9,
      "outputs": [
        {
          "output_type": "execute_result",
          "data": {
            "text/plain": [
              "(2200, 8)"
            ]
          },
          "metadata": {},
          "execution_count": 9
        }
      ]
    },
    {
      "cell_type": "code",
      "source": [
        "crop['label'].unique()"
      ],
      "metadata": {
        "id": "NP_OroZMoaIb",
        "colab": {
          "base_uri": "https://localhost:8080/"
        },
        "outputId": "410d11c2-3fc9-4668-a5ea-d1f6581ee8bb"
      },
      "execution_count": 10,
      "outputs": [
        {
          "output_type": "execute_result",
          "data": {
            "text/plain": [
              "array(['rice', 'maize', 'chickpea', 'kidneybeans', 'pigeonpeas',\n",
              "       'mothbeans', 'mungbean', 'blackgram', 'lentil', 'pomegranate',\n",
              "       'banana', 'mango', 'grapes', 'watermelon', 'muskmelon', 'apple',\n",
              "       'orange', 'papaya', 'coconut', 'cotton', 'jute', 'coffee'],\n",
              "      dtype=object)"
            ]
          },
          "metadata": {},
          "execution_count": 10
        }
      ]
    },
    {
      "cell_type": "code",
      "source": [
        "crop['label'].nunique()"
      ],
      "metadata": {
        "id": "OMwIJRawoemL",
        "colab": {
          "base_uri": "https://localhost:8080/"
        },
        "outputId": "73e36303-f49b-4947-cd33-3085eb6eff8a"
      },
      "execution_count": 11,
      "outputs": [
        {
          "output_type": "execute_result",
          "data": {
            "text/plain": [
              "22"
            ]
          },
          "metadata": {},
          "execution_count": 11
        }
      ]
    },
    {
      "cell_type": "code",
      "source": [
        "crop['label'].value_counts()"
      ],
      "metadata": {
        "id": "QqVxWgnToi-G",
        "colab": {
          "base_uri": "https://localhost:8080/"
        },
        "outputId": "f4bc6d22-0c65-4f62-a824-8d9172fa8588"
      },
      "execution_count": 12,
      "outputs": [
        {
          "output_type": "execute_result",
          "data": {
            "text/plain": [
              "rice           100\n",
              "maize          100\n",
              "jute           100\n",
              "cotton         100\n",
              "coconut        100\n",
              "papaya         100\n",
              "orange         100\n",
              "apple          100\n",
              "muskmelon      100\n",
              "watermelon     100\n",
              "grapes         100\n",
              "mango          100\n",
              "banana         100\n",
              "pomegranate    100\n",
              "lentil         100\n",
              "blackgram      100\n",
              "mungbean       100\n",
              "mothbeans      100\n",
              "pigeonpeas     100\n",
              "kidneybeans    100\n",
              "chickpea       100\n",
              "coffee         100\n",
              "Name: label, dtype: int64"
            ]
          },
          "metadata": {},
          "execution_count": 12
        }
      ]
    },
    {
      "cell_type": "code",
      "source": [
        "fig, ax = plt.subplots(1, 1, figsize=(15, 9))\n",
        "sns.heatmap(crop.corr(), annot=True,cmap='viridis')\n",
        "plt.title('Correlation between different features', fontsize = 15, c='black')\n",
        "plt.show()\n"
      ],
      "metadata": {
        "id": "0ukTfIAyoziH",
        "colab": {
          "base_uri": "https://localhost:8080/",
          "height": 555
        },
        "outputId": "f63bbdf6-a618-4ef8-ac57-2097c247fe30"
      },
      "execution_count": 13,
      "outputs": [
        {
          "output_type": "display_data",
          "data": {
            "text/plain": [
              "<Figure size 1080x648 with 2 Axes>"
            ],
            "image/png": "[encoded data removed]"
          },
          "metadata": {
            "needs_background": "light"
          }
        }
      ]
    },
    {
      "cell_type": "code",
      "source": [
        "crop_summary = pd.pivot_table(crop,index=['label'],aggfunc='mean')\n",
        "crop_summary.head()"
      ],
      "metadata": {
        "id": "fk8dGMNpo_Gp",
        "colab": {
          "base_uri": "https://localhost:8080/",
          "height": 237
        },
        "outputId": "51543ad8-abe5-42e4-fa84-a90609cf77cb"
      },
      "execution_count": 14,
      "outputs": [
        {
          "output_type": "execute_result",
          "data": {
            "text/plain": [
              "                K       N       P   humidity        ph    rainfall  \\\n",
              "label                                                                \n",
              "apple      199.89   20.80  134.22  92.333383  5.929663  112.654779   \n",
              "banana      50.05  100.23   82.01  80.358123  5.983893  104.626980   \n",
              "blackgram   19.24   40.02   67.47  65.118426  7.133952   67.884151   \n",
              "chickpea    79.92   40.09   67.79  16.860439  7.336957   80.058977   \n",
              "coconut     30.59   21.98   16.93  94.844272  5.976562  175.686646   \n",
              "\n",
              "           temperature  \n",
              "label                   \n",
              "apple        22.630942  \n",
              "banana       27.376798  \n",
              "blackgram    29.973340  \n",
              "chickpea     18.872847  \n",
              "coconut      27.409892  "
            ],
            "text/html": [
              "\n",
              "  <div id=\"df-687dd43d-bff4-4d09-8b97-59e5e1f6f0b1\">\n",
              "    <div class=\"colab-df-container\">\n",
              "      <div>\n",
              "<style scoped>\n",
              "    .dataframe tbody tr th:only-of-type {\n",
              "        vertical-align: middle;\n",
              "    }\n",
              "\n",
              "    .dataframe tbody tr th {\n",
              "        vertical-align: top;\n",
              "    }\n",
              "\n",
              "    .dataframe thead th {\n",
              "        text-align: right;\n",
              "    }\n",
              "</style>\n",
              "<table border=\"1\" class=\"dataframe\">\n",
              "  <thead>\n",
              "    <tr style=\"text-align: right;\">\n",
              "      <th></th>\n",
              "      <th>K</th>\n",
              "      <th>N</th>\n",
              "      <th>P</th>\n",
              "      <th>humidity</th>\n",
              "      <th>ph</th>\n",
              "      <th>rainfall</th>\n",
              "      <th>temperature</th>\n",
              "    </tr>\n",
              "    <tr>\n",
              "      <th>label</th>\n",
              "      <th></th>\n",
              "      <th></th>\n",
              "      <th></th>\n",
              "      <th></th>\n",
              "      <th></th>\n",
              "      <th></th>\n",
              "      <th></th>\n",
              "    </tr>\n",
              "  </thead>\n",
              "  <tbody>\n",
              "    <tr>\n",
              "      <th>apple</th>\n",
              "      <td>199.89</td>\n",
              "      <td>20.80</td>\n",
              "      <td>134.22</td>\n",
              "      <td>92.333383</td>\n",
              "      <td>5.929663</td>\n",
              "      <td>112.654779</td>\n",
              "      <td>22.630942</td>\n",
              "    </tr>\n",
              "    <tr>\n",
              "      <th>banana</th>\n",
              "      <td>50.05</td>\n",
              "      <td>100.23</td>\n",
              "      <td>82.01</td>\n",
              "      <td>80.358123</td>\n",
              "      <td>5.983893</td>\n",
              "      <td>104.626980</td>\n",
              "      <td>27.376798</td>\n",
              "    </tr>\n",
              "    <tr>\n",
              "      <th>blackgram</th>\n",
              "      <td>19.24</td>\n",
              "      <td>40.02</td>\n",
              "      <td>67.47</td>\n",
              "      <td>65.118426</td>\n",
              "      <td>7.133952</td>\n",
              "      <td>67.884151</td>\n",
              "      <td>29.973340</td>\n",
              "    </tr>\n",
              "    <tr>\n",
              "      <th>chickpea</th>\n",
              "      <td>79.92</td>\n",
              "      <td>40.09</td>\n",
              "      <td>67.79</td>\n",
              "      <td>16.860439</td>\n",
              "      <td>7.336957</td>\n",
              "      <td>80.058977</td>\n",
              "      <td>18.872847</td>\n",
              "    </tr>\n",
              "    <tr>\n",
              "      <th>coconut</th>\n",
              "      <td>30.59</td>\n",
              "      <td>21.98</td>\n",
              "      <td>16.93</td>\n",
              "      <td>94.844272</td>\n",
              "      <td>5.976562</td>\n",
              "      <td>175.686646</td>\n",
              "      <td>27.409892</td>\n",
              "    </tr>\n",
              "  </tbody>\n",
              "</table>\n",
              "</div>\n",
              "      <button class=\"colab-df-convert\" onclick=\"convertToInteractive('df-687dd43d-bff4-4d09-8b97-59e5e1f6f0b1')\"\n",
              "              title=\"Convert this dataframe to an interactive table.\"\n",
              "              style=\"display:none;\">\n",
              "        \n",
              "  <svg xmlns=\"http://www.w3.org/2000/svg\" height=\"24px\"viewBox=\"0 0 24 24\"\n",
              "       width=\"24px\">\n",
              "    <path d=\"M0 0h24v24H0V0z\" fill=\"none\"/>\n",
              "    <path d=\"M18.56 5.44l.94 2.06.94-2.06 2.06-.94-2.06-.94-.94-2.06-.94 2.06-2.06.94zm-11 1L8.5 8.5l.94-2.06 2.06-.94-2.06-.94L8.5 2.5l-.94 2.06-2.06.94zm10 10l.94 2.06.94-2.06 2.06-.94-2.06-.94-.94-2.06-.94 2.06-2.06.94z\"/><path d=\"M17.41 7.96l-1.37-1.37c-.4-.4-.92-.59-1.43-.59-.52 0-1.04.2-1.43.59L10.3 9.45l-7.72 7.72c-.78.78-.78 2.05 0 2.83L4 21.41c.39.39.9.59 1.41.59.51 0 1.02-.2 1.41-.59l7.78-7.78 2.81-2.81c.8-.78.8-2.07 0-2.86zM5.41 20L4 18.59l7.72-7.72 1.47 1.35L5.41 20z\"/>\n",
              "  </svg>\n",
              "      </button>\n",
              "      \n",
              "  <style>\n",
              "    .colab-df-container {\n",
              "      display:flex;\n",
              "      flex-wrap:wrap;\n",
              "      gap: 12px;\n",
              "    }\n",
              "\n",
              "    .colab-df-convert {\n",
              "      background-color: #E8F0FE;\n",
              "      border: none;\n",
              "      border-radius: 50%;\n",
              "      cursor: pointer;\n",
              "      display: none;\n",
              "      fill: #1967D2;\n",
              "      height: 32px;\n",
              "      padding: 0 0 0 0;\n",
              "      width: 32px;\n",
              "    }\n",
              "\n",
              "    .colab-df-convert:hover {\n",
              "      background-color: #E2EBFA;\n",
              "      box-shadow: 0px 1px 2px rgba(60, 64, 67, 0.3), 0px 1px 3px 1px rgba(60, 64, 67, 0.15);\n",
              "      fill: #174EA6;\n",
              "    }\n",
              "\n",
              "    [theme=dark] .colab-df-convert {\n",
              "      background-color: #3B4455;\n",
              "      fill: #D2E3FC;\n",
              "    }\n",
              "\n",
              "    [theme=dark] .colab-df-convert:hover {\n",
              "      background-color: #434B5C;\n",
              "      box-shadow: 0px 1px 3px 1px rgba(0, 0, 0, 0.15);\n",
              "      filter: drop-shadow(0px 1px 2px rgba(0, 0, 0, 0.3));\n",
              "      fill: #FFFFFF;\n",
              "    }\n",
              "  </style>\n",
              "\n",
              "      <script>\n",
              "        const buttonEl =\n",
              "          document.querySelector('#df-687dd43d-bff4-4d09-8b97-59e5e1f6f0b1 button.colab-df-convert');\n",
              "        buttonEl.style.display =\n",
              "          google.colab.kernel.accessAllowed ? 'block' : 'none';\n",
              "\n",
              "        async function convertToInteractive(key) {\n",
              "          const element = document.querySelector('#df-687dd43d-bff4-4d09-8b97-59e5e1f6f0b1');\n",
              "          const dataTable =\n",
              "            await google.colab.kernel.invokeFunction('convertToInteractive',\n",
              "                                                     [key], {});\n",
              "          if (!dataTable) return;\n",
              "\n",
              "          const docLinkHtml = 'Like what you see? Visit the ' +\n",
              "            '<a target=\"_blank\" href=https://colab.research.google.com/notebooks/data_table.ipynb>data table notebook</a>'\n",
              "            + ' to learn more about interactive tables.';\n",
              "          element.innerHTML = '';\n",
              "          dataTable['output_type'] = 'display_data';\n",
              "          await google.colab.output.renderOutput(dataTable, element);\n",
              "          const docLink = document.createElement('div');\n",
              "          docLink.innerHTML = docLinkHtml;\n",
              "          element.appendChild(docLink);\n",
              "        }\n",
              "      </script>\n",
              "    </div>\n",
              "  </div>\n",
              "  "
            ]
          },
          "metadata": {},
          "execution_count": 14
        }
      ]
    },
    {
      "cell_type": "code",
      "source": [
        "x = crop_summary.index\n",
        "y1 = crop_summary['N']\n",
        "y2 = crop_summary['P']\n",
        "y3 = crop_summary['K']\n",
        "\n",
        "color1 = 'mediumvioletred'\n",
        "color2 = 'springgreen'\n",
        "color3 = 'dodgerblue'\n",
        "\n",
        "\n",
        "fig, ax = plt.subplots(figsize=(10, 6))\n",
        "ax.bar(x, y1, color=color1, label='Nitrogen')\n",
        "ax.bar(x, y2, color=color2, bottom=y1, label='Phosphorous')\n",
        "ax.bar(x, y3, color=color3, bottom=y1+y2, label='Potash')\n",
        "\n",
        "ax.set_title(\"N-P-K values comparision between crops\")\n",
        "ax.set_xlabel(\"Crop\")\n",
        "ax.set_ylabel(\"Nutrient Value\")\n",
        "plt.xticks(rotation=-45, ha='left', va='top') \n",
        "\n",
        "\n",
        "ax.legend()\n",
        "plt.subplots_adjust(bottom=0.2) \n",
        "plt.show()\n",
        "\n"
      ],
      "metadata": {
        "id": "KlTv4B2GvlMy",
        "colab": {
          "base_uri": "https://localhost:8080/",
          "height": 416
        },
        "outputId": "8850d82a-b60c-4c15-ccba-46e2289955c5"
      },
      "execution_count": 15,
      "outputs": [
        {
          "output_type": "display_data",
          "data": {
            "text/plain": [
              "<Figure size 720x432 with 1 Axes>"
            ],
            "image/png": "[encoded data removed]"
          },
          "metadata": {
            "needs_background": "light"
          }
        }
      ]
    },
    {
      "cell_type": "code",
      "source": [
        "x = crop_summary.index\n",
        "y1 = crop_summary['temperature']\n",
        "y2 = crop_summary['humidity']\n",
        "y3 = crop_summary['rainfall']\n",
        "\n",
        "fig, ax = plt.subplots(figsize=(10, 6))\n",
        "ax.bar(x, y1, color=color1, label='Temperature')\n",
        "ax.bar(x, y2, color=color2, bottom=y1, label='Humidity')\n",
        "ax.bar(x, y3, color=color3, bottom=y1+y2, label='Rainfall')\n",
        "\n",
        "ax.set_title(\"Temperature-Humidity-Rainfall values comparision between crops\")\n",
        "ax.set_xlabel(\"Crop\")\n",
        "ax.set_ylabel(\"Environmental Values\")\n",
        "plt.xticks(rotation=-45, ha='left', va='top') \n",
        "\n",
        "\n",
        "ax.legend()\n",
        "plt.subplots_adjust(bottom=0.2) \n",
        "plt.show()\n",
        "\n"
      ],
      "metadata": {
        "colab": {
          "base_uri": "https://localhost:8080/",
          "height": 416
        },
        "id": "KYQQM8N7_7Hm",
        "outputId": "c42a95ea-bd6b-4e9e-e860-a0e532a2b96d"
      },
      "execution_count": 16,
      "outputs": [
        {
          "output_type": "display_data",
          "data": {
            "text/plain": [
              "<Figure size 720x432 with 1 Axes>"
            ],
            "image/png": "[encoded data removed]"
          },
          "metadata": {
            "needs_background": "light"
          }
        }
      ]
    },
    {
      "cell_type": "markdown",
      "source": [
        "# Clustering"
      ],
      "metadata": {
        "id": "hHfgIxtP11nz"
      }
    },
    {
      "cell_type": "code",
      "source": [
        "plt.scatter(crop['humidity'],crop['rainfall'])"
      ],
      "metadata": {
        "id": "-T4Rh_3_Cc_I",
        "colab": {
          "base_uri": "https://localhost:8080/",
          "height": 282
        },
        "outputId": "75bd60ae-56fd-422a-d004-072c7f087462"
      },
      "execution_count": 17,
      "outputs": [
        {
          "output_type": "execute_result",
          "data": {
            "text/plain": [
              "<matplotlib.collections.PathCollection at 0x7f026cc2e8b0>"
            ]
          },
          "metadata": {},
          "execution_count": 17
        },
        {
          "output_type": "display_data",
          "data": {
            "text/plain": [
              "<Figure size 432x288 with 1 Axes>"
            ],
            "image/png": "[encoded data removed]"
          },
          "metadata": {
            "needs_background": "light"
          }
        }
      ]
    },
    {
      "cell_type": "code",
      "source": [
        "clst = crop.loc[:, ['humidity','rainfall']].values\n",
        "print(clst.shape)\n",
        "\n",
        "clst_data  = pd.DataFrame(clst)\n",
        "clst_data.head()"
      ],
      "metadata": {
        "id": "2Dbl5Kzn14fy",
        "colab": {
          "base_uri": "https://localhost:8080/",
          "height": 223
        },
        "outputId": "cca97dc3-ffd6-49e0-f49c-483bf08f2f9a"
      },
      "execution_count": 18,
      "outputs": [
        {
          "output_type": "stream",
          "name": "stdout",
          "text": [
            "(2200, 2)\n"
          ]
        },
        {
          "output_type": "execute_result",
          "data": {
            "text/plain": [
              "           0           1\n",
              "0  82.002744  202.935536\n",
              "1  80.319644  226.655537\n",
              "2  82.320763  263.964248\n",
              "3  80.158363  242.864034\n",
              "4  81.604873  262.717340"
            ],
            "text/html": [
              "\n",
              "  <div id=\"df-0d24f386-93ab-4527-8e84-fd4625004cf9\">\n",
              "    <div class=\"colab-df-container\">\n",
              "      <div>\n",
              "<style scoped>\n",
              "    .dataframe tbody tr th:only-of-type {\n",
              "        vertical-align: middle;\n",
              "    }\n",
              "\n",
              "    .dataframe tbody tr th {\n",
              "        vertical-align: top;\n",
              "    }\n",
              "\n",
              "    .dataframe thead th {\n",
              "        text-align: right;\n",
              "    }\n",
              "</style>\n",
              "<table border=\"1\" class=\"dataframe\">\n",
              "  <thead>\n",
              "    <tr style=\"text-align: right;\">\n",
              "      <th></th>\n",
              "      <th>0</th>\n",
              "      <th>1</th>\n",
              "    </tr>\n",
              "  </thead>\n",
              "  <tbody>\n",
              "    <tr>\n",
              "      <th>0</th>\n",
              "      <td>82.002744</td>\n",
              "      <td>202.935536</td>\n",
              "    </tr>\n",
              "    <tr>\n",
              "      <th>1</th>\n",
              "      <td>80.319644</td>\n",
              "      <td>226.655537</td>\n",
              "    </tr>\n",
              "    <tr>\n",
              "      <th>2</th>\n",
              "      <td>82.320763</td>\n",
              "      <td>263.964248</td>\n",
              "    </tr>\n",
              "    <tr>\n",
              "      <th>3</th>\n",
              "      <td>80.158363</td>\n",
              "      <td>242.864034</td>\n",
              "    </tr>\n",
              "    <tr>\n",
              "      <th>4</th>\n",
              "      <td>81.604873</td>\n",
              "      <td>262.717340</td>\n",
              "    </tr>\n",
              "  </tbody>\n",
              "</table>\n",
              "</div>\n",
              "      <button class=\"colab-df-convert\" onclick=\"convertToInteractive('df-0d24f386-93ab-4527-8e84-fd4625004cf9')\"\n",
              "              title=\"Convert this dataframe to an interactive table.\"\n",
              "              style=\"display:none;\">\n",
              "        \n",
              "  <svg xmlns=\"http://www.w3.org/2000/svg\" height=\"24px\"viewBox=\"0 0 24 24\"\n",
              "       width=\"24px\">\n",
              "    <path d=\"M0 0h24v24H0V0z\" fill=\"none\"/>\n",
              "    <path d=\"M18.56 5.44l.94 2.06.94-2.06 2.06-.94-2.06-.94-.94-2.06-.94 2.06-2.06.94zm-11 1L8.5 8.5l.94-2.06 2.06-.94-2.06-.94L8.5 2.5l-.94 2.06-2.06.94zm10 10l.94 2.06.94-2.06 2.06-.94-2.06-.94-.94-2.06-.94 2.06-2.06.94z\"/><path d=\"M17.41 7.96l-1.37-1.37c-.4-.4-.92-.59-1.43-.59-.52 0-1.04.2-1.43.59L10.3 9.45l-7.72 7.72c-.78.78-.78 2.05 0 2.83L4 21.41c.39.39.9.59 1.41.59.51 0 1.02-.2 1.41-.59l7.78-7.78 2.81-2.81c.8-.78.8-2.07 0-2.86zM5.41 20L4 18.59l7.72-7.72 1.47 1.35L5.41 20z\"/>\n",
              "  </svg>\n",
              "      </button>\n",
              "      \n",
              "  <style>\n",
              "    .colab-df-container {\n",
              "      display:flex;\n",
              "      flex-wrap:wrap;\n",
              "      gap: 12px;\n",
              "    }\n",
              "\n",
              "    .colab-df-convert {\n",
              "      background-color: #E8F0FE;\n",
              "      border: none;\n",
              "      border-radius: 50%;\n",
              "      cursor: pointer;\n",
              "      display: none;\n",
              "      fill: #1967D2;\n",
              "      height: 32px;\n",
              "      padding: 0 0 0 0;\n",
              "      width: 32px;\n",
              "    }\n",
              "\n",
              "    .colab-df-convert:hover {\n",
              "      background-color: #E2EBFA;\n",
              "      box-shadow: 0px 1px 2px rgba(60, 64, 67, 0.3), 0px 1px 3px 1px rgba(60, 64, 67, 0.15);\n",
              "      fill: #174EA6;\n",
              "    }\n",
              "\n",
              "    [theme=dark] .colab-df-convert {\n",
              "      background-color: #3B4455;\n",
              "      fill: #D2E3FC;\n",
              "    }\n",
              "\n",
              "    [theme=dark] .colab-df-convert:hover {\n",
              "      background-color: #434B5C;\n",
              "      box-shadow: 0px 1px 3px 1px rgba(0, 0, 0, 0.15);\n",
              "      filter: drop-shadow(0px 1px 2px rgba(0, 0, 0, 0.3));\n",
              "      fill: #FFFFFF;\n",
              "    }\n",
              "  </style>\n",
              "\n",
              "      <script>\n",
              "        const buttonEl =\n",
              "          document.querySelector('#df-0d24f386-93ab-4527-8e84-fd4625004cf9 button.colab-df-convert');\n",
              "        buttonEl.style.display =\n",
              "          google.colab.kernel.accessAllowed ? 'block' : 'none';\n",
              "\n",
              "        async function convertToInteractive(key) {\n",
              "          const element = document.querySelector('#df-0d24f386-93ab-4527-8e84-fd4625004cf9');\n",
              "          const dataTable =\n",
              "            await google.colab.kernel.invokeFunction('convertToInteractive',\n",
              "                                                     [key], {});\n",
              "          if (!dataTable) return;\n",
              "\n",
              "          const docLinkHtml = 'Like what you see? Visit the ' +\n",
              "            '<a target=\"_blank\" href=https://colab.research.google.com/notebooks/data_table.ipynb>data table notebook</a>'\n",
              "            + ' to learn more about interactive tables.';\n",
              "          element.innerHTML = '';\n",
              "          dataTable['output_type'] = 'display_data';\n",
              "          await google.colab.output.renderOutput(dataTable, element);\n",
              "          const docLink = document.createElement('div');\n",
              "          docLink.innerHTML = docLinkHtml;\n",
              "          element.appendChild(docLink);\n",
              "        }\n",
              "      </script>\n",
              "    </div>\n",
              "  </div>\n",
              "  "
            ]
          },
          "metadata": {},
          "execution_count": 18
        }
      ]
    },
    {
      "cell_type": "code",
      "source": [
        "from sklearn.preprocessing import MinMaxScaler\n",
        "scaler = MinMaxScaler()\n",
        "clst_scaled=scaler.fit_transform(clst_data)\n",
        "clst_scaled = pd.DataFrame(clst_scaled, columns=['humidity','rainfall'])"
      ],
      "metadata": {
        "id": "AIiOQXeQ2Dcp"
      },
      "execution_count": 19,
      "outputs": []
    },
    {
      "cell_type": "code",
      "source": [
        "from sklearn.cluster import KMeans\n",
        "wcss = []\n",
        "for i in range(1, 11):\n",
        "    km = KMeans(n_clusters = i, init = 'k-means++')\n",
        "    km.fit(clst_data)\n",
        "    wcss.append(km.inertia_)"
      ],
      "metadata": {
        "id": "iWPbn1J52jGf",
        "colab": {
          "base_uri": "https://localhost:8080/"
        },
        "outputId": "d4b8e2f0-982b-462f-ada6-ba28b4fcfccb"
      },
      "execution_count": 20,
      "outputs": [
        {
          "output_type": "stream",
          "name": "stderr",
          "text": [
            "/usr/local/lib/python3.9/dist-packages/sklearn/cluster/_kmeans.py:870: FutureWarning: The default value of `n_init` will change from 10 to 'auto' in 1.4. Set the value of `n_init` explicitly to suppress the warning\n",
            "  warnings.warn(\n",
            "/usr/local/lib/python3.9/dist-packages/sklearn/cluster/_kmeans.py:870: FutureWarning: The default value of `n_init` will change from 10 to 'auto' in 1.4. Set the value of `n_init` explicitly to suppress the warning\n",
            "  warnings.warn(\n",
            "/usr/local/lib/python3.9/dist-packages/sklearn/cluster/_kmeans.py:870: FutureWarning: The default value of `n_init` will change from 10 to 'auto' in 1.4. Set the value of `n_init` explicitly to suppress the warning\n",
            "  warnings.warn(\n",
            "/usr/local/lib/python3.9/dist-packages/sklearn/cluster/_kmeans.py:870: FutureWarning: The default value of `n_init` will change from 10 to 'auto' in 1.4. Set the value of `n_init` explicitly to suppress the warning\n",
            "  warnings.warn(\n",
            "/usr/local/lib/python3.9/dist-packages/sklearn/cluster/_kmeans.py:870: FutureWarning: The default value of `n_init` will change from 10 to 'auto' in 1.4. Set the value of `n_init` explicitly to suppress the warning\n",
            "  warnings.warn(\n",
            "/usr/local/lib/python3.9/dist-packages/sklearn/cluster/_kmeans.py:870: FutureWarning: The default value of `n_init` will change from 10 to 'auto' in 1.4. Set the value of `n_init` explicitly to suppress the warning\n",
            "  warnings.warn(\n",
            "/usr/local/lib/python3.9/dist-packages/sklearn/cluster/_kmeans.py:870: FutureWarning: The default value of `n_init` will change from 10 to 'auto' in 1.4. Set the value of `n_init` explicitly to suppress the warning\n",
            "  warnings.warn(\n",
            "/usr/local/lib/python3.9/dist-packages/sklearn/cluster/_kmeans.py:870: FutureWarning: The default value of `n_init` will change from 10 to 'auto' in 1.4. Set the value of `n_init` explicitly to suppress the warning\n",
            "  warnings.warn(\n",
            "/usr/local/lib/python3.9/dist-packages/sklearn/cluster/_kmeans.py:870: FutureWarning: The default value of `n_init` will change from 10 to 'auto' in 1.4. Set the value of `n_init` explicitly to suppress the warning\n",
            "  warnings.warn(\n",
            "/usr/local/lib/python3.9/dist-packages/sklearn/cluster/_kmeans.py:870: FutureWarning: The default value of `n_init` will change from 10 to 'auto' in 1.4. Set the value of `n_init` explicitly to suppress the warning\n",
            "  warnings.warn(\n"
          ]
        }
      ]
    },
    {
      "cell_type": "code",
      "source": [
        "sns.set()\n",
        "plt.plot(range(1,11), wcss)\n",
        "plt.title('The Elbow Point Graph')\n",
        "plt.xlabel('Number of Clusters')\n",
        "plt.ylabel('WCSS')\n",
        "plt.show()"
      ],
      "metadata": {
        "id": "EfkFOFGk3smj",
        "colab": {
          "base_uri": "https://localhost:8080/",
          "height": 301
        },
        "outputId": "a4e83815-d947-4e55-8f54-bd230746da22"
      },
      "execution_count": 21,
      "outputs": [
        {
          "output_type": "display_data",
          "data": {
            "text/plain": [
              "<Figure size 432x288 with 1 Axes>"
            ],
            "image/png": "[encoded data removed]"
          },
          "metadata": {}
        }
      ]
    },
    {
      "cell_type": "code",
      "source": [
        "km = KMeans(n_clusters = 2, init = 'k-means++', max_iter = 300, n_init = 10, random_state = 0)\n",
        "y_means = km.fit_predict(clst_scaled)\n",
        "\n",
        "a = crop['label']\n",
        "y_means = pd.DataFrame(y_means)\n",
        "z = pd.concat([clst_scaled['humidity'],clst_scaled['rainfall'],y_means, a], axis = 1)\n",
        "z = z.rename(columns = {0: 'cluster'})\n",
        "print(\"Crops in First Cluster:\", z[z['cluster'] == 0]['label'].unique())\n",
        "print(\"Crops in Second Cluster:\", z[z['cluster'] == 1]['label'].unique())\n",
        "\n",
        "\n"
      ],
      "metadata": {
        "id": "yglIbaEv4BaF",
        "colab": {
          "base_uri": "https://localhost:8080/"
        },
        "outputId": "cedc5a1c-91cd-4c92-de6c-55f2bb4de84d"
      },
      "execution_count": 22,
      "outputs": [
        {
          "output_type": "stream",
          "name": "stdout",
          "text": [
            "Crops in First Cluster: ['rice' 'maize' 'pigeonpeas' 'mungbean' 'blackgram' 'lentil' 'pomegranate'\n",
            " 'banana' 'grapes' 'watermelon' 'muskmelon' 'apple' 'orange' 'papaya'\n",
            " 'coconut' 'cotton' 'jute' 'coffee']\n",
            "Crops in Second Cluster: ['maize' 'chickpea' 'kidneybeans' 'pigeonpeas' 'mothbeans' 'blackgram'\n",
            " 'lentil' 'mango' 'coffee']\n"
          ]
        }
      ]
    },
    {
      "cell_type": "code",
      "source": [
        "centers=km.cluster_centers_\n",
        "print(centers)\n",
        "c1=z[z['cluster'] == 0]\n",
        "c2=z[z['cluster'] == 1]\n",
        "plt.scatter(c1['humidity'],c1['rainfall'],color='green')\n",
        "plt.scatter(c2['humidity'],c2['rainfall'],color='red')\n",
        "plt.scatter(centers[:, 0], centers[:, 1], marker='x', s=200, linewidths=3, color='black')\n",
        "\n"
      ],
      "metadata": {
        "id": "z9CNPoGk_bMF",
        "colab": {
          "base_uri": "https://localhost:8080/",
          "height": 320
        },
        "outputId": "d064e2f7-c7a1-496b-ef60-4b085317401b"
      },
      "execution_count": 23,
      "outputs": [
        {
          "output_type": "stream",
          "name": "stdout",
          "text": [
            "[[0.82666808 0.32028809]\n",
            " [0.36903309 0.25933691]]\n"
          ]
        },
        {
          "output_type": "execute_result",
          "data": {
            "text/plain": [
              "<matplotlib.collections.PathCollection at 0x7f026926ed30>"
            ]
          },
          "metadata": {},
          "execution_count": 23
        },
        {
          "output_type": "display_data",
          "data": {
            "text/plain": [
              "<Figure size 432x288 with 1 Axes>"
            ],
            "image/png": "[encoded data removed]"
          },
          "metadata": {}
        }
      ]
    },
    {
      "cell_type": "markdown",
      "source": [
        "Independent and Target variables"
      ],
      "metadata": {
        "id": "VIAs5X5LA_kF"
      }
    },
    {
      "cell_type": "code",
      "source": [
        "features = crop[['N', 'P','K','temperature', 'humidity', 'ph', 'rainfall']]\n",
        "target = crop['label']\n",
        "acc = []\n",
        "model = []\n",
        "from sklearn.model_selection import train_test_split\n",
        "x_train, x_test, y_train, y_test = train_test_split(features,target,test_size = 0.2,random_state =2)"
      ],
      "metadata": {
        "id": "rXGaLsgs2B76"
      },
      "execution_count": 24,
      "outputs": []
    },
    {
      "cell_type": "markdown",
      "source": [
        "#  KNN"
      ],
      "metadata": {
        "id": "eounP-Qm4WDT"
      }
    },
    {
      "cell_type": "code",
      "source": [
        "\"\"\"class SimpleKNN:\n",
        "    def __init__(self, k=5):\n",
        "        self.k = k\n",
        "\n",
        "    def fit(self, X, y):\n",
        "        self.X = X\n",
        "        self.y = y\n",
        "\n",
        "    def predict(self, X_test):\n",
        "      y_pred = []\n",
        "      for x in X_test.itertuples(index=False):\n",
        "\n",
        "        # Compute the Euclidean distance between x and each point in the training set\n",
        "        distances = [sum([abs(getattr(x, col) - getattr(self.X.iloc[j], col)) for col in X_test.columns]) for j in range(len(self.X))]\n",
        "        # distances = [sum([abs(getattr(x, f'_{i+1}') - getattr(self.X.iloc[j], f'_{i+1}')) for i in range(len(x))]) for j in range(len(self.X))]\n",
        "        # Sort the distances in ascending order and get the indices of the k closest points\n",
        "        k_indices = sorted(range(len(distances)), key=lambda i: distances[i])[:self.k]\n",
        "\n",
        "        # Get the labels of the k closest points and find the most common label\n",
        "        k_labels = [self.y.iloc[i] for i in k_indices]\n",
        "        most_common = max(set(k_labels), key=k_labels.count)\n",
        "\n",
        "        y_pred.append(most_common)\n",
        "\n",
        "      return y_pred\"\"\"\n",
        "\n"
      ],
      "metadata": {
        "id": "D29zxFya4-gK",
        "colab": {
          "base_uri": "https://localhost:8080/",
          "height": 157
        },
        "outputId": "54bdd22e-9a1e-4591-d627-fd7da9f63d12"
      },
      "execution_count": 25,
      "outputs": [
        {
          "output_type": "execute_result",
          "data": {
            "text/plain": [
              "\"class SimpleKNN:\\n    def __init__(self, k=5):\\n        self.k = k\\n\\n    def fit(self, X, y):\\n        self.X = X\\n        self.y = y\\n\\n    def predict(self, X_test):\\n      y_pred = []\\n      for x in X_test.itertuples(index=False):\\n\\n        # Compute the Euclidean distance between x and each point in the training set\\n        distances = [sum([abs(getattr(x, col) - getattr(self.X.iloc[j], col)) for col in X_test.columns]) for j in range(len(self.X))]\\n        # distances = [sum([abs(getattr(x, f'_{i+1}') - getattr(self.X.iloc[j], f'_{i+1}')) for i in range(len(x))]) for j in range(len(self.X))]\\n        # Sort the distances in ascending order and get the indices of the k closest points\\n        k_indices = sorted(range(len(distances)), key=lambda i: distances[i])[:self.k]\\n\\n        # Get the labels of the k closest points and find the most common label\\n        k_labels = [self.y.iloc[i] for i in k_indices]\\n        most_common = max(set(k_labels), key=k_labels.count)\\n\\n        y_pred.append(most_common)\\n\\n      return y_pred\""
            ],
            "application/vnd.google.colaboratory.intrinsic+json": {
              "type": "string"
            }
          },
          "metadata": {},
          "execution_count": 25
        }
      ]
    },
    {
      "cell_type": "code",
      "source": [
        "\"\"\"sKNN=SimpleKNN(3)\n",
        "sKNN.fit(x_train,y_train)\n",
        "\n",
        "predicted_values = sKNN.predict(x_test)\n",
        "\n",
        "x = metrics.accuracy_score(y_test, predicted_values)\n",
        "acc.append(x)\n",
        "model.append('K Nearest Neighbours')\n",
        "print(\"KNN Accuracy is: \", x)\n",
        "\n",
        "print(classification_report(y_test,predicted_values))\"\"\""
      ],
      "metadata": {
        "id": "MwIH4Tvf5CAp",
        "colab": {
          "base_uri": "https://localhost:8080/",
          "height": 70
        },
        "outputId": "2cdc5bcd-a584-4e42-9d68-5fe08df996f3"
      },
      "execution_count": 26,
      "outputs": [
        {
          "output_type": "execute_result",
          "data": {
            "text/plain": [
              "'sKNN=SimpleKNN(3)\\nsKNN.fit(x_train,y_train)\\n\\npredicted_values = sKNN.predict(x_test)\\n\\nx = metrics.accuracy_score(y_test, predicted_values)\\nacc.append(x)\\nmodel.append(\\'K Nearest Neighbours\\')\\nprint(\"KNN Accuracy is: \", x)\\n\\nprint(classification_report(y_test,predicted_values))'"
            ],
            "application/vnd.google.colaboratory.intrinsic+json": {
              "type": "string"
            }
          },
          "metadata": {},
          "execution_count": 26
        }
      ]
    },
    {
      "cell_type": "code",
      "source": [
        "from sklearn.neighbors import KNeighborsClassifier\n",
        "knn = KNeighborsClassifier()\n",
        "\n",
        "knn.fit(x_train,y_train)\n",
        "\n",
        "predicted_values = knn.predict(x_test)\n",
        "\n",
        "x = metrics.accuracy_score(y_test, predicted_values)\n",
        "\n",
        "print(\"KNN Accuracy is: \", x)\n"
      ],
      "metadata": {
        "id": "H2DagqaL4bX6",
        "colab": {
          "base_uri": "https://localhost:8080/"
        },
        "outputId": "223135e4-63d3-4102-853d-2215d8fb283f"
      },
      "execution_count": 27,
      "outputs": [
        {
          "output_type": "stream",
          "name": "stdout",
          "text": [
            "KNN Accuracy is:  0.975\n"
          ]
        }
      ]
    },
    {
      "cell_type": "code",
      "source": [
        "score = cross_val_score(knn,features,target,cv=5)\n",
        "print('Cross validation score: ',score)"
      ],
      "metadata": {
        "id": "ZFtMDXT6DJcD",
        "colab": {
          "base_uri": "https://localhost:8080/"
        },
        "outputId": "fcfe4b58-4405-4be4-fcdf-48b24e7a97d2"
      },
      "execution_count": 28,
      "outputs": [
        {
          "output_type": "stream",
          "name": "stdout",
          "text": [
            "Cross validation score:  [0.97727273 0.98181818 0.97954545 0.97954545 0.97954545]\n"
          ]
        }
      ]
    },
    {
      "cell_type": "code",
      "source": [
        "knn_train_accuracy = knn.score(x_train,y_train)\n",
        "print(\"knn_train_accuracy = \",knn.score(x_train,y_train))\n",
        "\n",
        "knn_test_accuracy = knn.score(x_test,y_test)\n",
        "print(\"knn_test_accuracy = \",knn.score(x_test,y_test))"
      ],
      "metadata": {
        "id": "_bkf4BNqDSce",
        "colab": {
          "base_uri": "https://localhost:8080/"
        },
        "outputId": "54b74e89-9c7d-44a6-9a9f-0eb1d9c78d1d"
      },
      "execution_count": 29,
      "outputs": [
        {
          "output_type": "stream",
          "name": "stdout",
          "text": [
            "knn_train_accuracy =  0.9886363636363636\n",
            "knn_test_accuracy =  0.975\n"
          ]
        }
      ]
    },
    {
      "cell_type": "code",
      "source": [
        "y_pred = knn.predict(x_test)\n",
        "y_true = y_test\n",
        "\n",
        "from sklearn.metrics import confusion_matrix\n",
        "\n",
        "cm_knn = confusion_matrix(y_true,y_pred)\n",
        "\n",
        "f, ax = plt.subplots(figsize=(15,10))\n",
        "sns.heatmap(cm_knn, annot=True, linewidth=0.5, fmt=\".0f\",cmap='viridis', ax = ax)\n",
        "plt.xlabel('Predicted')\n",
        "plt.ylabel('Actual')\n",
        "plt.title('Predicted vs actual')\n",
        "plt.show()"
      ],
      "metadata": {
        "id": "7Ki-juxNDVpR",
        "colab": {
          "base_uri": "https://localhost:8080/",
          "height": 627
        },
        "outputId": "8c0e3dea-edbd-4f8f-d98d-76f15f60bdaf"
      },
      "execution_count": 30,
      "outputs": [
        {
          "output_type": "display_data",
          "data": {
            "text/plain": [
              "<Figure size 1080x720 with 2 Axes>"
            ],
            "image/png": "[encoded data removed]"
          },
          "metadata": {}
        }
      ]
    },
    {
      "cell_type": "markdown",
      "source": [
        "# Finding Best K value"
      ],
      "metadata": {
        "id": "sTutTyu1GYCR"
      }
    },
    {
      "cell_type": "code",
      "source": [
        "error_rate = []\n",
        "for i in range(1,47,2):\n",
        " knn = KNeighborsClassifier(n_neighbors=i)\n",
        " knn.fit(x_train,y_train)\n",
        " pred_i = knn.predict(x_test)\n",
        " error_rate.append(np.mean(pred_i != y_test))\n",
        "\n",
        "plt.figure(figsize=(10,6))\n",
        "plt.plot(range(1,47,2),error_rate,color='blue', linestyle='dashed', \n",
        "         marker='o',markerfacecolor='red', markersize=10)\n",
        "plt.title('Error Rate vs. K Value')\n",
        "plt.xlabel('K')\n",
        "plt.ylabel('Error Rate')\n",
        "print(\"Minimum error:-\",min(error_rate),\"at K =\",(2*error_rate.index(min(error_rate)))+1)"
      ],
      "metadata": {
        "id": "8ljsahKuD3Z5",
        "colab": {
          "base_uri": "https://localhost:8080/",
          "height": 427
        },
        "outputId": "f84082b8-eb4c-4a01-f04e-c2854fc8976b"
      },
      "execution_count": 31,
      "outputs": [
        {
          "output_type": "stream",
          "name": "stdout",
          "text": [
            "Minimum error:- 0.022727272727272728 at K = 7\n"
          ]
        },
        {
          "output_type": "display_data",
          "data": {
            "text/plain": [
              "<Figure size 720x432 with 1 Axes>"
            ],
            "image/png": "[encoded data removed]"
          },
          "metadata": {}
        }
      ]
    },
    {
      "cell_type": "code",
      "source": [
        "acc = []\n",
        "# Will take some time\n",
        "from sklearn import metrics\n",
        "for i in range(1,47,2):\n",
        "    neigh = KNeighborsClassifier(n_neighbors = i).fit(x_train,y_train)\n",
        "    yhat = neigh.predict(x_test)\n",
        "    acc.append(metrics.accuracy_score(y_test, yhat))\n",
        "    \n",
        "plt.figure(figsize=(10,6))\n",
        "plt.plot(range(1,47,2),acc,color = 'blue',linestyle='dashed', \n",
        "         marker='o',markerfacecolor='red', markersize=10)\n",
        "plt.title('accuracy vs. K Value')\n",
        "plt.xlabel('K')\n",
        "plt.ylabel('Accuracy')\n",
        "print(\"Maximum accuracy:-\",max(acc),\"at K =\",(2*acc.index(max(acc)))+1)"
      ],
      "metadata": {
        "id": "jUxVtimkEt2y",
        "colab": {
          "base_uri": "https://localhost:8080/",
          "height": 427
        },
        "outputId": "b1352e11-dbbb-4ef0-fb24-5d04a33314a1"
      },
      "execution_count": 32,
      "outputs": [
        {
          "output_type": "stream",
          "name": "stdout",
          "text": [
            "Maximum accuracy:- 0.9772727272727273 at K = 7\n"
          ]
        },
        {
          "output_type": "display_data",
          "data": {
            "text/plain": [
              "<Figure size 720x432 with 1 Axes>"
            ],
            "image/png": "[encoded data removed]"
          },
          "metadata": {}
        }
      ]
    },
    {
      "cell_type": "markdown",
      "source": [
        "# Hyperparameter Tuning \n",
        "\n"
      ],
      "metadata": {
        "id": "wTTOSaLdGpgj"
      }
    },
    {
      "cell_type": "code",
      "source": [
        "a=[]\n",
        "for i in range(1,47,2):\n",
        "    a.append(i)\n",
        "len(a)"
      ],
      "metadata": {
        "id": "i-M9YoXJHJri",
        "colab": {
          "base_uri": "https://localhost:8080/"
        },
        "outputId": "90f4a128-b7a9-4cc1-ad2c-531638144c5c"
      },
      "execution_count": 33,
      "outputs": [
        {
          "output_type": "execute_result",
          "data": {
            "text/plain": [
              "23"
            ]
          },
          "metadata": {},
          "execution_count": 33
        }
      ]
    },
    {
      "cell_type": "code",
      "source": [
        "from sklearn.model_selection import GridSearchCV\n",
        "grid_params = { 'n_neighbors' : a,\n",
        "               'weights' : ['uniform','distance'],\n",
        "               'metric' : ['minkowski','euclidean','manhattan']}"
      ],
      "metadata": {
        "id": "Dik1dkLSGLax"
      },
      "execution_count": 34,
      "outputs": []
    },
    {
      "cell_type": "code",
      "source": [
        "gs = GridSearchCV(KNeighborsClassifier(), grid_params, verbose = 1, cv=7, n_jobs = -1)"
      ],
      "metadata": {
        "id": "__V1WuZbHZiN"
      },
      "execution_count": 35,
      "outputs": []
    },
    {
      "cell_type": "code",
      "source": [
        "g_res = gs.fit(x_train, y_train)"
      ],
      "metadata": {
        "id": "MslmRzSvHiOF",
        "colab": {
          "base_uri": "https://localhost:8080/"
        },
        "outputId": "9d5a91c0-7bd0-4a95-bcb1-c5515036acee"
      },
      "execution_count": 36,
      "outputs": [
        {
          "output_type": "stream",
          "name": "stdout",
          "text": [
            "Fitting 7 folds for each of 138 candidates, totalling 966 fits\n"
          ]
        }
      ]
    },
    {
      "cell_type": "code",
      "source": [
        "gsresult=pd.DataFrame(g_res.cv_results_)\n",
        "gsresult.head()"
      ],
      "metadata": {
        "id": "CMA7lZVGmQ6f",
        "colab": {
          "base_uri": "https://localhost:8080/",
          "height": 530
        },
        "outputId": "7f69485e-c849-49d7-afd1-05fdcc29a151"
      },
      "execution_count": 37,
      "outputs": [
        {
          "output_type": "execute_result",
          "data": {
            "text/plain": [
              "   mean_fit_time  std_fit_time  mean_score_time  std_score_time param_metric  \\\n",
              "0       0.006159      0.001048         0.014172        0.002948    minkowski   \n",
              "1       0.005419      0.000203         0.005473        0.000389    minkowski   \n",
              "2       0.005640      0.000306         0.013974        0.000877    minkowski   \n",
              "3       0.005843      0.000936         0.006445        0.000680    minkowski   \n",
              "4       0.005403      0.000124         0.013340        0.000847    minkowski   \n",
              "\n",
              "  param_n_neighbors param_weights  \\\n",
              "0                 1       uniform   \n",
              "1                 1      distance   \n",
              "2                 3       uniform   \n",
              "3                 3      distance   \n",
              "4                 5       uniform   \n",
              "\n",
              "                                              params  split0_test_score  \\\n",
              "0  {'metric': 'minkowski', 'n_neighbors': 1, 'wei...           0.988095   \n",
              "1  {'metric': 'minkowski', 'n_neighbors': 1, 'wei...           0.988095   \n",
              "2  {'metric': 'minkowski', 'n_neighbors': 3, 'wei...           0.984127   \n",
              "3  {'metric': 'minkowski', 'n_neighbors': 3, 'wei...           0.984127   \n",
              "4  {'metric': 'minkowski', 'n_neighbors': 5, 'wei...           0.992063   \n",
              "\n",
              "   split1_test_score  split2_test_score  split3_test_score  split4_test_score  \\\n",
              "0           0.980159           0.984127           0.980080           0.976096   \n",
              "1           0.980159           0.984127           0.980080           0.976096   \n",
              "2           0.972222           0.984127           0.984064           0.980080   \n",
              "3           0.972222           0.984127           0.980080           0.980080   \n",
              "4           0.980159           0.988095           0.984064           0.980080   \n",
              "\n",
              "   split5_test_score  split6_test_score  mean_test_score  std_test_score  \\\n",
              "0           0.972112           0.984064         0.980676        0.004977   \n",
              "1           0.972112           0.984064         0.980676        0.004977   \n",
              "2           0.964143           0.980080         0.978406        0.007018   \n",
              "3           0.964143           0.984064         0.978406        0.007018   \n",
              "4           0.968127           0.984064         0.982379        0.007025   \n",
              "\n",
              "   rank_test_score  \n",
              "0               13  \n",
              "1               13  \n",
              "2               29  \n",
              "3               31  \n",
              "4                5  "
            ],
            "text/html": [
              "\n",
              "  <div id=\"df-f9e18b75-7e15-4552-a576-a4f38227c2c3\">\n",
              "    <div class=\"colab-df-container\">\n",
              "      <div>\n",
              "<style scoped>\n",
              "    .dataframe tbody tr th:only-of-type {\n",
              "        vertical-align: middle;\n",
              "    }\n",
              "\n",
              "    .dataframe tbody tr th {\n",
              "        vertical-align: top;\n",
              "    }\n",
              "\n",
              "    .dataframe thead th {\n",
              "        text-align: right;\n",
              "    }\n",
              "</style>\n",
              "<table border=\"1\" class=\"dataframe\">\n",
              "  <thead>\n",
              "    <tr style=\"text-align: right;\">\n",
              "      <th></th>\n",
              "      <th>mean_fit_time</th>\n",
              "      <th>std_fit_time</th>\n",
              "      <th>mean_score_time</th>\n",
              "      <th>std_score_time</th>\n",
              "      <th>param_metric</th>\n",
              "      <th>param_n_neighbors</th>\n",
              "      <th>param_weights</th>\n",
              "      <th>params</th>\n",
              "      <th>split0_test_score</th>\n",
              "      <th>split1_test_score</th>\n",
              "      <th>split2_test_score</th>\n",
              "      <th>split3_test_score</th>\n",
              "      <th>split4_test_score</th>\n",
              "      <th>split5_test_score</th>\n",
              "      <th>split6_test_score</th>\n",
              "      <th>mean_test_score</th>\n",
              "      <th>std_test_score</th>\n",
              "      <th>rank_test_score</th>\n",
              "    </tr>\n",
              "  </thead>\n",
              "  <tbody>\n",
              "    <tr>\n",
              "      <th>0</th>\n",
              "      <td>0.006159</td>\n",
              "      <td>0.001048</td>\n",
              "      <td>0.014172</td>\n",
              "      <td>0.002948</td>\n",
              "      <td>minkowski</td>\n",
              "      <td>1</td>\n",
              "      <td>uniform</td>\n",
              "      <td>{'metric': 'minkowski', 'n_neighbors': 1, 'wei...</td>\n",
              "      <td>0.988095</td>\n",
              "      <td>0.980159</td>\n",
              "      <td>0.984127</td>\n",
              "      <td>0.980080</td>\n",
              "      <td>0.976096</td>\n",
              "      <td>0.972112</td>\n",
              "      <td>0.984064</td>\n",
              "      <td>0.980676</td>\n",
              "      <td>0.004977</td>\n",
              "      <td>13</td>\n",
              "    </tr>\n",
              "    <tr>\n",
              "      <th>1</th>\n",
              "      <td>0.005419</td>\n",
              "      <td>0.000203</td>\n",
              "      <td>0.005473</td>\n",
              "      <td>0.000389</td>\n",
              "      <td>minkowski</td>\n",
              "      <td>1</td>\n",
              "      <td>distance</td>\n",
              "      <td>{'metric': 'minkowski', 'n_neighbors': 1, 'wei...</td>\n",
              "      <td>0.988095</td>\n",
              "      <td>0.980159</td>\n",
              "      <td>0.984127</td>\n",
              "      <td>0.980080</td>\n",
              "      <td>0.976096</td>\n",
              "      <td>0.972112</td>\n",
              "      <td>0.984064</td>\n",
              "      <td>0.980676</td>\n",
              "      <td>0.004977</td>\n",
              "      <td>13</td>\n",
              "    </tr>\n",
              "    <tr>\n",
              "      <th>2</th>\n",
              "      <td>0.005640</td>\n",
              "      <td>0.000306</td>\n",
              "      <td>0.013974</td>\n",
              "      <td>0.000877</td>\n",
              "      <td>minkowski</td>\n",
              "      <td>3</td>\n",
              "      <td>uniform</td>\n",
              "      <td>{'metric': 'minkowski', 'n_neighbors': 3, 'wei...</td>\n",
              "      <td>0.984127</td>\n",
              "      <td>0.972222</td>\n",
              "      <td>0.984127</td>\n",
              "      <td>0.984064</td>\n",
              "      <td>0.980080</td>\n",
              "      <td>0.964143</td>\n",
              "      <td>0.980080</td>\n",
              "      <td>0.978406</td>\n",
              "      <td>0.007018</td>\n",
              "      <td>29</td>\n",
              "    </tr>\n",
              "    <tr>\n",
              "      <th>3</th>\n",
              "      <td>0.005843</td>\n",
              "      <td>0.000936</td>\n",
              "      <td>0.006445</td>\n",
              "      <td>0.000680</td>\n",
              "      <td>minkowski</td>\n",
              "      <td>3</td>\n",
              "      <td>distance</td>\n",
              "      <td>{'metric': 'minkowski', 'n_neighbors': 3, 'wei...</td>\n",
              "      <td>0.984127</td>\n",
              "      <td>0.972222</td>\n",
              "      <td>0.984127</td>\n",
              "      <td>0.980080</td>\n",
              "      <td>0.980080</td>\n",
              "      <td>0.964143</td>\n",
              "      <td>0.984064</td>\n",
              "      <td>0.978406</td>\n",
              "      <td>0.007018</td>\n",
              "      <td>31</td>\n",
              "    </tr>\n",
              "    <tr>\n",
              "      <th>4</th>\n",
              "      <td>0.005403</td>\n",
              "      <td>0.000124</td>\n",
              "      <td>0.013340</td>\n",
              "      <td>0.000847</td>\n",
              "      <td>minkowski</td>\n",
              "      <td>5</td>\n",
              "      <td>uniform</td>\n",
              "      <td>{'metric': 'minkowski', 'n_neighbors': 5, 'wei...</td>\n",
              "      <td>0.992063</td>\n",
              "      <td>0.980159</td>\n",
              "      <td>0.988095</td>\n",
              "      <td>0.984064</td>\n",
              "      <td>0.980080</td>\n",
              "      <td>0.968127</td>\n",
              "      <td>0.984064</td>\n",
              "      <td>0.982379</td>\n",
              "      <td>0.007025</td>\n",
              "      <td>5</td>\n",
              "    </tr>\n",
              "  </tbody>\n",
              "</table>\n",
              "</div>\n",
              "      <button class=\"colab-df-convert\" onclick=\"convertToInteractive('df-f9e18b75-7e15-4552-a576-a4f38227c2c3')\"\n",
              "              title=\"Convert this dataframe to an interactive table.\"\n",
              "              style=\"display:none;\">\n",
              "        \n",
              "  <svg xmlns=\"http://www.w3.org/2000/svg\" height=\"24px\"viewBox=\"0 0 24 24\"\n",
              "       width=\"24px\">\n",
              "    <path d=\"M0 0h24v24H0V0z\" fill=\"none\"/>\n",
              "    <path d=\"M18.56 5.44l.94 2.06.94-2.06 2.06-.94-2.06-.94-.94-2.06-.94 2.06-2.06.94zm-11 1L8.5 8.5l.94-2.06 2.06-.94-2.06-.94L8.5 2.5l-.94 2.06-2.06.94zm10 10l.94 2.06.94-2.06 2.06-.94-2.06-.94-.94-2.06-.94 2.06-2.06.94z\"/><path d=\"M17.41 7.96l-1.37-1.37c-.4-.4-.92-.59-1.43-.59-.52 0-1.04.2-1.43.59L10.3 9.45l-7.72 7.72c-.78.78-.78 2.05 0 2.83L4 21.41c.39.39.9.59 1.41.59.51 0 1.02-.2 1.41-.59l7.78-7.78 2.81-2.81c.8-.78.8-2.07 0-2.86zM5.41 20L4 18.59l7.72-7.72 1.47 1.35L5.41 20z\"/>\n",
              "  </svg>\n",
              "      </button>\n",
              "      \n",
              "  <style>\n",
              "    .colab-df-container {\n",
              "      display:flex;\n",
              "      flex-wrap:wrap;\n",
              "      gap: 12px;\n",
              "    }\n",
              "\n",
              "    .colab-df-convert {\n",
              "      background-color: #E8F0FE;\n",
              "      border: none;\n",
              "      border-radius: 50%;\n",
              "      cursor: pointer;\n",
              "      display: none;\n",
              "      fill: #1967D2;\n",
              "      height: 32px;\n",
              "      padding: 0 0 0 0;\n",
              "      width: 32px;\n",
              "    }\n",
              "\n",
              "    .colab-df-convert:hover {\n",
              "      background-color: #E2EBFA;\n",
              "      box-shadow: 0px 1px 2px rgba(60, 64, 67, 0.3), 0px 1px 3px 1px rgba(60, 64, 67, 0.15);\n",
              "      fill: #174EA6;\n",
              "    }\n",
              "\n",
              "    [theme=dark] .colab-df-convert {\n",
              "      background-color: #3B4455;\n",
              "      fill: #D2E3FC;\n",
              "    }\n",
              "\n",
              "    [theme=dark] .colab-df-convert:hover {\n",
              "      background-color: #434B5C;\n",
              "      box-shadow: 0px 1px 3px 1px rgba(0, 0, 0, 0.15);\n",
              "      filter: drop-shadow(0px 1px 2px rgba(0, 0, 0, 0.3));\n",
              "      fill: #FFFFFF;\n",
              "    }\n",
              "  </style>\n",
              "\n",
              "      <script>\n",
              "        const buttonEl =\n",
              "          document.querySelector('#df-f9e18b75-7e15-4552-a576-a4f38227c2c3 button.colab-df-convert');\n",
              "        buttonEl.style.display =\n",
              "          google.colab.kernel.accessAllowed ? 'block' : 'none';\n",
              "\n",
              "        async function convertToInteractive(key) {\n",
              "          const element = document.querySelector('#df-f9e18b75-7e15-4552-a576-a4f38227c2c3');\n",
              "          const dataTable =\n",
              "            await google.colab.kernel.invokeFunction('convertToInteractive',\n",
              "                                                     [key], {});\n",
              "          if (!dataTable) return;\n",
              "\n",
              "          const docLinkHtml = 'Like what you see? Visit the ' +\n",
              "            '<a target=\"_blank\" href=https://colab.research.google.com/notebooks/data_table.ipynb>data table notebook</a>'\n",
              "            + ' to learn more about interactive tables.';\n",
              "          element.innerHTML = '';\n",
              "          dataTable['output_type'] = 'display_data';\n",
              "          await google.colab.output.renderOutput(dataTable, element);\n",
              "          const docLink = document.createElement('div');\n",
              "          docLink.innerHTML = docLinkHtml;\n",
              "          element.appendChild(docLink);\n",
              "        }\n",
              "      </script>\n",
              "    </div>\n",
              "  </div>\n",
              "  "
            ]
          },
          "metadata": {},
          "execution_count": 37
        }
      ]
    },
    {
      "cell_type": "code",
      "source": [
        "gsresult[['param_metric','param_weights','param_n_neighbors','mean_test_score']].head()"
      ],
      "metadata": {
        "id": "8c1dTpUFmqdh",
        "colab": {
          "base_uri": "https://localhost:8080/",
          "height": 206
        },
        "outputId": "d27e8290-3d3b-4969-8443-4d1133009f5e"
      },
      "execution_count": 38,
      "outputs": [
        {
          "output_type": "execute_result",
          "data": {
            "text/plain": [
              "  param_metric param_weights param_n_neighbors  mean_test_score\n",
              "0    minkowski       uniform                 1         0.980676\n",
              "1    minkowski      distance                 1         0.980676\n",
              "2    minkowski       uniform                 3         0.978406\n",
              "3    minkowski      distance                 3         0.978406\n",
              "4    minkowski       uniform                 5         0.982379"
            ],
            "text/html": [
              "\n",
              "  <div id=\"df-7f2743e7-5223-42fa-8045-0a5d6e0ce5c5\">\n",
              "    <div class=\"colab-df-container\">\n",
              "      <div>\n",
              "<style scoped>\n",
              "    .dataframe tbody tr th:only-of-type {\n",
              "        vertical-align: middle;\n",
              "    }\n",
              "\n",
              "    .dataframe tbody tr th {\n",
              "        vertical-align: top;\n",
              "    }\n",
              "\n",
              "    .dataframe thead th {\n",
              "        text-align: right;\n",
              "    }\n",
              "</style>\n",
              "<table border=\"1\" class=\"dataframe\">\n",
              "  <thead>\n",
              "    <tr style=\"text-align: right;\">\n",
              "      <th></th>\n",
              "      <th>param_metric</th>\n",
              "      <th>param_weights</th>\n",
              "      <th>param_n_neighbors</th>\n",
              "      <th>mean_test_score</th>\n",
              "    </tr>\n",
              "  </thead>\n",
              "  <tbody>\n",
              "    <tr>\n",
              "      <th>0</th>\n",
              "      <td>minkowski</td>\n",
              "      <td>uniform</td>\n",
              "      <td>1</td>\n",
              "      <td>0.980676</td>\n",
              "    </tr>\n",
              "    <tr>\n",
              "      <th>1</th>\n",
              "      <td>minkowski</td>\n",
              "      <td>distance</td>\n",
              "      <td>1</td>\n",
              "      <td>0.980676</td>\n",
              "    </tr>\n",
              "    <tr>\n",
              "      <th>2</th>\n",
              "      <td>minkowski</td>\n",
              "      <td>uniform</td>\n",
              "      <td>3</td>\n",
              "      <td>0.978406</td>\n",
              "    </tr>\n",
              "    <tr>\n",
              "      <th>3</th>\n",
              "      <td>minkowski</td>\n",
              "      <td>distance</td>\n",
              "      <td>3</td>\n",
              "      <td>0.978406</td>\n",
              "    </tr>\n",
              "    <tr>\n",
              "      <th>4</th>\n",
              "      <td>minkowski</td>\n",
              "      <td>uniform</td>\n",
              "      <td>5</td>\n",
              "      <td>0.982379</td>\n",
              "    </tr>\n",
              "  </tbody>\n",
              "</table>\n",
              "</div>\n",
              "      <button class=\"colab-df-convert\" onclick=\"convertToInteractive('df-7f2743e7-5223-42fa-8045-0a5d6e0ce5c5')\"\n",
              "              title=\"Convert this dataframe to an interactive table.\"\n",
              "              style=\"display:none;\">\n",
              "        \n",
              "  <svg xmlns=\"http://www.w3.org/2000/svg\" height=\"24px\"viewBox=\"0 0 24 24\"\n",
              "       width=\"24px\">\n",
              "    <path d=\"M0 0h24v24H0V0z\" fill=\"none\"/>\n",
              "    <path d=\"M18.56 5.44l.94 2.06.94-2.06 2.06-.94-2.06-.94-.94-2.06-.94 2.06-2.06.94zm-11 1L8.5 8.5l.94-2.06 2.06-.94-2.06-.94L8.5 2.5l-.94 2.06-2.06.94zm10 10l.94 2.06.94-2.06 2.06-.94-2.06-.94-.94-2.06-.94 2.06-2.06.94z\"/><path d=\"M17.41 7.96l-1.37-1.37c-.4-.4-.92-.59-1.43-.59-.52 0-1.04.2-1.43.59L10.3 9.45l-7.72 7.72c-.78.78-.78 2.05 0 2.83L4 21.41c.39.39.9.59 1.41.59.51 0 1.02-.2 1.41-.59l7.78-7.78 2.81-2.81c.8-.78.8-2.07 0-2.86zM5.41 20L4 18.59l7.72-7.72 1.47 1.35L5.41 20z\"/>\n",
              "  </svg>\n",
              "      </button>\n",
              "      \n",
              "  <style>\n",
              "    .colab-df-container {\n",
              "      display:flex;\n",
              "      flex-wrap:wrap;\n",
              "      gap: 12px;\n",
              "    }\n",
              "\n",
              "    .colab-df-convert {\n",
              "      background-color: #E8F0FE;\n",
              "      border: none;\n",
              "      border-radius: 50%;\n",
              "      cursor: pointer;\n",
              "      display: none;\n",
              "      fill: #1967D2;\n",
              "      height: 32px;\n",
              "      padding: 0 0 0 0;\n",
              "      width: 32px;\n",
              "    }\n",
              "\n",
              "    .colab-df-convert:hover {\n",
              "      background-color: #E2EBFA;\n",
              "      box-shadow: 0px 1px 2px rgba(60, 64, 67, 0.3), 0px 1px 3px 1px rgba(60, 64, 67, 0.15);\n",
              "      fill: #174EA6;\n",
              "    }\n",
              "\n",
              "    [theme=dark] .colab-df-convert {\n",
              "      background-color: #3B4455;\n",
              "      fill: #D2E3FC;\n",
              "    }\n",
              "\n",
              "    [theme=dark] .colab-df-convert:hover {\n",
              "      background-color: #434B5C;\n",
              "      box-shadow: 0px 1px 3px 1px rgba(0, 0, 0, 0.15);\n",
              "      filter: drop-shadow(0px 1px 2px rgba(0, 0, 0, 0.3));\n",
              "      fill: #FFFFFF;\n",
              "    }\n",
              "  </style>\n",
              "\n",
              "      <script>\n",
              "        const buttonEl =\n",
              "          document.querySelector('#df-7f2743e7-5223-42fa-8045-0a5d6e0ce5c5 button.colab-df-convert');\n",
              "        buttonEl.style.display =\n",
              "          google.colab.kernel.accessAllowed ? 'block' : 'none';\n",
              "\n",
              "        async function convertToInteractive(key) {\n",
              "          const element = document.querySelector('#df-7f2743e7-5223-42fa-8045-0a5d6e0ce5c5');\n",
              "          const dataTable =\n",
              "            await google.colab.kernel.invokeFunction('convertToInteractive',\n",
              "                                                     [key], {});\n",
              "          if (!dataTable) return;\n",
              "\n",
              "          const docLinkHtml = 'Like what you see? Visit the ' +\n",
              "            '<a target=\"_blank\" href=https://colab.research.google.com/notebooks/data_table.ipynb>data table notebook</a>'\n",
              "            + ' to learn more about interactive tables.';\n",
              "          element.innerHTML = '';\n",
              "          dataTable['output_type'] = 'display_data';\n",
              "          await google.colab.output.renderOutput(dataTable, element);\n",
              "          const docLink = document.createElement('div');\n",
              "          docLink.innerHTML = docLinkHtml;\n",
              "          element.appendChild(docLink);\n",
              "        }\n",
              "      </script>\n",
              "    </div>\n",
              "  </div>\n",
              "  "
            ]
          },
          "metadata": {},
          "execution_count": 38
        }
      ]
    },
    {
      "cell_type": "code",
      "source": [
        "g_res.best_score_"
      ],
      "metadata": {
        "id": "i3XdzWP6H4YQ",
        "colab": {
          "base_uri": "https://localhost:8080/"
        },
        "outputId": "2b25434d-4b77-443c-c16a-1deedc7f5777"
      },
      "execution_count": 39,
      "outputs": [
        {
          "output_type": "execute_result",
          "data": {
            "text/plain": [
              "0.9846554823788746"
            ]
          },
          "metadata": {},
          "execution_count": 39
        }
      ]
    },
    {
      "cell_type": "code",
      "source": [
        "g_res.best_params_"
      ],
      "metadata": {
        "id": "L1prXax-H6-J",
        "colab": {
          "base_uri": "https://localhost:8080/"
        },
        "outputId": "3347f5f1-3568-49b9-b68f-b43bb8ca616c"
      },
      "execution_count": 40,
      "outputs": [
        {
          "output_type": "execute_result",
          "data": {
            "text/plain": [
              "{'metric': 'manhattan', 'n_neighbors': 5, 'weights': 'distance'}"
            ]
          },
          "metadata": {},
          "execution_count": 40
        }
      ]
    },
    {
      "cell_type": "code",
      "source": [
        "best_knn=KNeighborsClassifier(n_neighbors = 5, weights = 'distance',metric = 'manhattan')\n",
        "best_knn.fit(x_train, y_train)\n",
        "predicted_values = best_knn.predict(x_test)\n",
        "\n",
        "knn_train_accuracy = best_knn.score(x_train,y_train)\n",
        "print(\"knn_train_accuracy = \",best_knn.score(x_train,y_train))\n",
        "\n",
        "knn_test_accuracy = best_knn.score(x_test,y_test)\n",
        "print(\"knn_test_accuracy = \",best_knn.score(x_test,y_test))\n",
        "\n",
        "acc.append(knn_test_accuracy)\n",
        "model.append('K Nearest Neighbours')\n",
        "\n",
        "print(classification_report(y_test,predicted_values))"
      ],
      "metadata": {
        "id": "GyVg6dJOIHN-",
        "colab": {
          "base_uri": "https://localhost:8080/"
        },
        "outputId": "d81b5349-7ab6-4597-f3a0-e8820e698a7b"
      },
      "execution_count": 41,
      "outputs": [
        {
          "output_type": "stream",
          "name": "stdout",
          "text": [
            "knn_train_accuracy =  1.0\n",
            "knn_test_accuracy =  0.975\n",
            "              precision    recall  f1-score   support\n",
            "\n",
            "       apple       1.00      1.00      1.00        13\n",
            "      banana       1.00      1.00      1.00        17\n",
            "   blackgram       0.89      1.00      0.94        16\n",
            "    chickpea       1.00      1.00      1.00        21\n",
            "     coconut       1.00      1.00      1.00        21\n",
            "      coffee       1.00      1.00      1.00        22\n",
            "      cotton       0.95      1.00      0.98        20\n",
            "      grapes       1.00      1.00      1.00        18\n",
            "        jute       0.89      0.86      0.87        28\n",
            " kidneybeans       1.00      1.00      1.00        14\n",
            "      lentil       0.96      1.00      0.98        23\n",
            "       maize       1.00      0.95      0.98        21\n",
            "       mango       1.00      1.00      1.00        26\n",
            "   mothbeans       1.00      0.84      0.91        19\n",
            "    mungbean       1.00      1.00      1.00        24\n",
            "   muskmelon       1.00      1.00      1.00        23\n",
            "      orange       1.00      1.00      1.00        29\n",
            "      papaya       1.00      1.00      1.00        19\n",
            "  pigeonpeas       1.00      1.00      1.00        18\n",
            " pomegranate       1.00      1.00      1.00        17\n",
            "        rice       0.76      0.81      0.79        16\n",
            "  watermelon       1.00      1.00      1.00        15\n",
            "\n",
            "    accuracy                           0.97       440\n",
            "   macro avg       0.98      0.98      0.97       440\n",
            "weighted avg       0.98      0.97      0.97       440\n",
            "\n"
          ]
        }
      ]
    },
    {
      "cell_type": "markdown",
      "source": [
        "# Naive Bayes"
      ],
      "metadata": {
        "id": "1Hcfwxx4_bSa"
      }
    },
    {
      "cell_type": "code",
      "source": [
        "from sklearn.naive_bayes import GaussianNB\n",
        "NaiveBayes = GaussianNB()\n",
        "\n",
        "NaiveBayes.fit(x_train,y_train)\n",
        "\n",
        "predicted_values = NaiveBayes.predict(x_test)\n",
        "x = metrics.accuracy_score(y_test, predicted_values)\n",
        "acc.append(x)\n",
        "model.append('Naive Bayes')\n",
        "print(\"Naive Bayes Accuracy is: \", x)\n",
        "\n",
        "print(classification_report(y_test,predicted_values))"
      ],
      "metadata": {
        "id": "8dA0959S_XUX",
        "colab": {
          "base_uri": "https://localhost:8080/"
        },
        "outputId": "deb286df-b16c-4be5-849f-3fd4c8026d3a"
      },
      "execution_count": 42,
      "outputs": [
        {
          "output_type": "stream",
          "name": "stdout",
          "text": [
            "Naive Bayes Accuracy is:  0.990909090909091\n",
            "              precision    recall  f1-score   support\n",
            "\n",
            "       apple       1.00      1.00      1.00        13\n",
            "      banana       1.00      1.00      1.00        17\n",
            "   blackgram       1.00      1.00      1.00        16\n",
            "    chickpea       1.00      1.00      1.00        21\n",
            "     coconut       1.00      1.00      1.00        21\n",
            "      coffee       1.00      1.00      1.00        22\n",
            "      cotton       1.00      1.00      1.00        20\n",
            "      grapes       1.00      1.00      1.00        18\n",
            "        jute       0.88      1.00      0.93        28\n",
            " kidneybeans       1.00      1.00      1.00        14\n",
            "      lentil       1.00      1.00      1.00        23\n",
            "       maize       1.00      1.00      1.00        21\n",
            "       mango       1.00      1.00      1.00        26\n",
            "   mothbeans       1.00      1.00      1.00        19\n",
            "    mungbean       1.00      1.00      1.00        24\n",
            "   muskmelon       1.00      1.00      1.00        23\n",
            "      orange       1.00      1.00      1.00        29\n",
            "      papaya       1.00      1.00      1.00        19\n",
            "  pigeonpeas       1.00      1.00      1.00        18\n",
            " pomegranate       1.00      1.00      1.00        17\n",
            "        rice       1.00      0.75      0.86        16\n",
            "  watermelon       1.00      1.00      1.00        15\n",
            "\n",
            "    accuracy                           0.99       440\n",
            "   macro avg       0.99      0.99      0.99       440\n",
            "weighted avg       0.99      0.99      0.99       440\n",
            "\n"
          ]
        }
      ]
    },
    {
      "cell_type": "code",
      "source": [
        "score = cross_val_score(NaiveBayes,features,target,cv=5)\n",
        "print('Cross validation score: ',score)"
      ],
      "metadata": {
        "id": "lYjgHfcVNBrm",
        "colab": {
          "base_uri": "https://localhost:8080/"
        },
        "outputId": "c16acd75-f9b5-445b-e53e-d43d2a005004"
      },
      "execution_count": 43,
      "outputs": [
        {
          "output_type": "stream",
          "name": "stdout",
          "text": [
            "Cross validation score:  [0.99772727 0.99545455 0.99545455 0.99545455 0.99090909]\n"
          ]
        }
      ]
    },
    {
      "cell_type": "code",
      "source": [
        "nb_train_accuracy = NaiveBayes.score(x_train,y_train)\n",
        "print(\"Training accuracy = \",NaiveBayes.score(x_train,y_train))\n",
        "\n",
        "nb_test_accuracy = NaiveBayes.score(x_test,y_test)\n",
        "print(\"Testing accuracy = \",NaiveBayes.score(x_test,y_test))"
      ],
      "metadata": {
        "id": "syYOOJbmNKK-",
        "colab": {
          "base_uri": "https://localhost:8080/"
        },
        "outputId": "c0185c22-a650-47f9-f693-2f47b1e00bb2"
      },
      "execution_count": 44,
      "outputs": [
        {
          "output_type": "stream",
          "name": "stdout",
          "text": [
            "Training accuracy =  0.9960227272727272\n",
            "Testing accuracy =  0.990909090909091\n"
          ]
        }
      ]
    },
    {
      "cell_type": "code",
      "source": [
        "y_pred = NaiveBayes.predict(x_test)\n",
        "y_true = y_test\n",
        "\n",
        "from sklearn.metrics import confusion_matrix\n",
        "\n",
        "cm_nb = confusion_matrix(y_true,y_pred)\n",
        "\n",
        "f, ax = plt.subplots(figsize=(15,10))\n",
        "sns.heatmap(cm_nb, annot=True, linewidth=0.5, fmt=\".0f\",  cmap='viridis', ax = ax)\n",
        "plt.xlabel(\"Predicted\")\n",
        "plt.ylabel(\"Actual\")\n",
        "plt.title('Predicted vs actual')\n",
        "plt.show()"
      ],
      "metadata": {
        "id": "vgZtS6hzNRWo",
        "colab": {
          "base_uri": "https://localhost:8080/",
          "height": 627
        },
        "outputId": "fb1e4ae3-076d-47f1-d473-144e11e27972"
      },
      "execution_count": 55,
      "outputs": [
        {
          "output_type": "display_data",
          "data": {
            "text/plain": [
              "<Figure size 1080x720 with 2 Axes>"
            ],
            "image/png": "[encoded data removed]"
          },
          "metadata": {}
        }
      ]
    },
    {
      "cell_type": "markdown",
      "source": [
        "# Decision Tree"
      ],
      "metadata": {
        "id": "-SznocQIbXxF"
      }
    },
    {
      "cell_type": "code",
      "source": [
        "from sklearn.tree import DecisionTreeClassifier\n",
        "DT = DecisionTreeClassifier(criterion=\"entropy\",random_state=2,max_depth=5)\n",
        "\n",
        "DT.fit(x_train,y_train)\n",
        "\n",
        "predicted_values = DT.predict(x_test)\n",
        "x = metrics.accuracy_score(y_test, predicted_values)\n",
        "acc.append(x)\n",
        "model.append('Decision Tree')\n",
        "print(\"Decision Tree's Accuracy is: \", x)\n",
        "\n",
        "print(classification_report(y_test,predicted_values))"
      ],
      "metadata": {
        "colab": {
          "base_uri": "https://localhost:8080/"
        },
        "id": "QxAort90a547",
        "outputId": "e2b3187a-44ef-47d9-bcc0-89d92a66ab26"
      },
      "execution_count": 50,
      "outputs": [
        {
          "output_type": "stream",
          "name": "stdout",
          "text": [
            "Decision Tree's Accuracy is:  0.9\n",
            "              precision    recall  f1-score   support\n",
            "\n",
            "       apple       1.00      1.00      1.00        13\n",
            "      banana       1.00      1.00      1.00        17\n",
            "   blackgram       0.59      1.00      0.74        16\n",
            "    chickpea       1.00      1.00      1.00        21\n",
            "     coconut       0.91      1.00      0.95        21\n",
            "      coffee       1.00      1.00      1.00        22\n",
            "      cotton       1.00      1.00      1.00        20\n",
            "      grapes       1.00      1.00      1.00        18\n",
            "        jute       0.74      0.93      0.83        28\n",
            " kidneybeans       0.00      0.00      0.00        14\n",
            "      lentil       0.68      1.00      0.81        23\n",
            "       maize       1.00      1.00      1.00        21\n",
            "       mango       1.00      1.00      1.00        26\n",
            "   mothbeans       0.00      0.00      0.00        19\n",
            "    mungbean       1.00      1.00      1.00        24\n",
            "   muskmelon       1.00      1.00      1.00        23\n",
            "      orange       1.00      1.00      1.00        29\n",
            "      papaya       1.00      0.84      0.91        19\n",
            "  pigeonpeas       0.62      1.00      0.77        18\n",
            " pomegranate       1.00      1.00      1.00        17\n",
            "        rice       1.00      0.62      0.77        16\n",
            "  watermelon       1.00      1.00      1.00        15\n",
            "\n",
            "    accuracy                           0.90       440\n",
            "   macro avg       0.84      0.88      0.85       440\n",
            "weighted avg       0.86      0.90      0.87       440\n",
            "\n"
          ]
        },
        {
          "output_type": "stream",
          "name": "stderr",
          "text": [
            "/usr/local/lib/python3.9/dist-packages/sklearn/metrics/_classification.py:1344: UndefinedMetricWarning: Precision and F-score are ill-defined and being set to 0.0 in labels with no predicted samples. Use `zero_division` parameter to control this behavior.\n",
            "  _warn_prf(average, modifier, msg_start, len(result))\n",
            "/usr/local/lib/python3.9/dist-packages/sklearn/metrics/_classification.py:1344: UndefinedMetricWarning: Precision and F-score are ill-defined and being set to 0.0 in labels with no predicted samples. Use `zero_division` parameter to control this behavior.\n",
            "  _warn_prf(average, modifier, msg_start, len(result))\n",
            "/usr/local/lib/python3.9/dist-packages/sklearn/metrics/_classification.py:1344: UndefinedMetricWarning: Precision and F-score are ill-defined and being set to 0.0 in labels with no predicted samples. Use `zero_division` parameter to control this behavior.\n",
            "  _warn_prf(average, modifier, msg_start, len(result))\n"
          ]
        }
      ]
    },
    {
      "cell_type": "code",
      "source": [
        "score = cross_val_score(DT, features, target,cv=5)\n",
        "print('Cross validation score: ',score)"
      ],
      "metadata": {
        "colab": {
          "base_uri": "https://localhost:8080/"
        },
        "id": "Wdj1cY52bAES",
        "outputId": "a9757862-3383-45cf-f6b1-84fe5a26da28"
      },
      "execution_count": 51,
      "outputs": [
        {
          "output_type": "stream",
          "name": "stdout",
          "text": [
            "Cross validation score:  [0.93636364 0.90909091 0.91818182 0.87045455 0.93636364]\n"
          ]
        }
      ]
    },
    {
      "cell_type": "code",
      "source": [
        "dt_train_accuracy = DT.score(x_train,y_train)\n",
        "print(\"Training accuracy = \",DT.score(x_train,y_train))\n",
        "\n",
        "dt_test_accuracy = DT.score(x_test,y_test)\n",
        "print(\"Testing accuracy = \",DT.score(x_test,y_test))"
      ],
      "metadata": {
        "colab": {
          "base_uri": "https://localhost:8080/"
        },
        "id": "op0EnNh3bA1s",
        "outputId": "65aa7abf-50b6-4bce-de21-1367236d46ff"
      },
      "execution_count": 52,
      "outputs": [
        {
          "output_type": "stream",
          "name": "stdout",
          "text": [
            "Training accuracy =  0.8818181818181818\n",
            "Testing accuracy =  0.9\n"
          ]
        }
      ]
    },
    {
      "cell_type": "code",
      "source": [
        "y_pred = DT.predict(x_test)\n",
        "y_true = y_test\n",
        "\n",
        "from sklearn.metrics import confusion_matrix\n",
        "\n",
        "cm_dt = confusion_matrix(y_true,y_pred)\n",
        "\n",
        "f, ax = plt.subplots(figsize=(15,10))\n",
        "sns.heatmap(cm_dt, annot=True, linewidth=0.5, fmt=\".0f\",  cmap='viridis', ax = ax)\n",
        "plt.xlabel(\"Predicted\")\n",
        "plt.ylabel(\"Actual\")\n",
        "plt.title('Predicted vs actual')\n",
        "plt.show()"
      ],
      "metadata": {
        "colab": {
          "base_uri": "https://localhost:8080/",
          "height": 627
        },
        "id": "3rGlu9gdbFMi",
        "outputId": "7730b496-b84e-4d01-e3f9-c1842900993d"
      },
      "execution_count": 53,
      "outputs": [
        {
          "output_type": "display_data",
          "data": {
            "text/plain": [
              "<Figure size 1080x720 with 2 Axes>"
            ],
            "image/png": "[encoded data removed]"
          },
          "metadata": {}
        }
      ]
    },
    {
      "cell_type": "code",
      "source": [
        "crop.columns"
      ],
      "metadata": {
        "colab": {
          "base_uri": "https://localhost:8080/"
        },
        "id": "hdsNtijbxHRw",
        "outputId": "423ac41e-362e-4713-e233-bd183eb9977c"
      },
      "execution_count": 57,
      "outputs": [
        {
          "output_type": "execute_result",
          "data": {
            "text/plain": [
              "Index(['N', 'P', 'K', 'temperature', 'humidity', 'ph', 'rainfall', 'label'], dtype='object')"
            ]
          },
          "metadata": {},
          "execution_count": 57
        }
      ]
    },
    {
      "cell_type": "code",
      "source": [
        "nit=float(input(\"Enter Nitrogen value\"))\n",
        "p=float(input(\"Enter Phosphorous value\"))\n",
        "k=float(input(\"Enter Potasium value\"))\n",
        "temp=float(input(\"Enter Temperature value\"))\n",
        "hum=float(input(\"Enter Humidity value\"))\n",
        "ph=float(input(\"Enter ph value\"))\n",
        "rain=float(input(\"Enter rainfall value\"))\n",
        "fl=[nit,p,k,temp,hum,ph,rain]"
      ],
      "metadata": {
        "colab": {
          "base_uri": "https://localhost:8080/"
        },
        "id": "JK0UePm6xay8",
        "outputId": "db27009b-48d5-432b-ec76-00784c719129"
      },
      "execution_count": 59,
      "outputs": [
        {
          "name": "stdout",
          "output_type": "stream",
          "text": [
            "Enter Nitrogen value20.8\n",
            "Enter Phosphorous value134.22\n",
            "Enter Potasium value199.89\n",
            "Enter Temperature value25.68\n",
            "Enter Humidity value80.35\n",
            "Enter ph value7.13\n",
            "Enter rainfall value104.62\n"
          ]
        }
      ]
    },
    {
      "cell_type": "code",
      "source": [
        "\"\"\"20.8\n",
        "134.22\n",
        "199.89\n",
        "25.68\n",
        "80.35\n",
        "7.13\n",
        "104.62\"\"\"\n",
        "x = np.array(fl).reshape(1,7) \n",
        "y_pred =NaiveBayes.predict(x)[0]\n",
        "\n",
        "print(\"The recommended crop is \", y_pred)\n"
      ],
      "metadata": {
        "colab": {
          "base_uri": "https://localhost:8080/"
        },
        "id": "LSSOF0hsxPNs",
        "outputId": "3d2548c4-1577-42a5-ed57-75e687ab8736"
      },
      "execution_count": 62,
      "outputs": [
        {
          "output_type": "stream",
          "name": "stdout",
          "text": [
            "The recommended crop is  apple\n"
          ]
        },
        {
          "output_type": "stream",
          "name": "stderr",
          "text": [
            "/usr/local/lib/python3.9/dist-packages/sklearn/base.py:420: UserWarning: X does not have valid feature names, but GaussianNB was fitted with feature names\n",
            "  warnings.warn(\n"
          ]
        }
      ]
    }
  ]
}